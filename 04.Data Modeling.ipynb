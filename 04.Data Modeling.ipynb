{
 "cells": [
  {
   "cell_type": "markdown",
   "metadata": {},
   "source": [
    "# Python TFM Section"
   ]
  },
  {
   "cell_type": "markdown",
   "metadata": {},
   "source": [
    "On this section of the TFM I am pretending to do the preparation need for the model, for that:\n",
    "\n",
    "1. Import all the .csv created on the R section to unify them \n",
    "2. Set up a unique data frame where we will have all the variables and information required to the regression model \n",
    "3. Compare several models and use the most suitable for this case of study\n",
    "4. Train and Test the final model and set it up implemented\n",
    "5. Final conclusions"
   ]
  },
  {
   "cell_type": "code",
   "execution_count": 64,
   "metadata": {},
   "outputs": [],
   "source": [
    "import pandas as pd\n",
    "import numpy as np\n",
    "import matplotlib.pyplot as plt\n",
    "%matplotlib inline\n",
    "plt.style.use('ggplot')"
   ]
  },
  {
   "cell_type": "code",
   "execution_count": 65,
   "metadata": {},
   "outputs": [
    {
     "name": "stdout",
     "output_type": "stream",
     "text": [
      "Collecting package metadata: ...working... done\n",
      "Solving environment: ...working... done\n",
      "\n",
      "## Package Plan ##\n",
      "\n",
      "  environment location: C:\\Users\\ES71531200G\\AppData\\Local\\Continuum\\anaconda3\n",
      "\n",
      "  added / updated specs:\n",
      "    - pathlib\n",
      "\n",
      "\n",
      "The following packages will be downloaded:\n",
      "\n",
      "    package                    |            build\n",
      "    ---------------------------|-----------------\n",
      "    pathlib-1.0.1              |           py37_1          28 KB\n",
      "    ------------------------------------------------------------\n",
      "                                           Total:          28 KB\n",
      "\n",
      "The following NEW packages will be INSTALLED:\n",
      "\n",
      "  pathlib            pkgs/main/win-64::pathlib-1.0.1-py37_1\n",
      "\n",
      "\n",
      "\n",
      "Downloading and Extracting Packages\n",
      "\n",
      "pathlib-1.0.1        | 28 KB     |            |   0% \n",
      "pathlib-1.0.1        | 28 KB     | ####2      |  43% \n",
      "pathlib-1.0.1        | 28 KB     | ########## | 100% \n",
      "Preparing transaction: ...working... done\n",
      "Verifying transaction: ...working... done\n",
      "Executing transaction: ...working... done\n"
     ]
    }
   ],
   "source": [
    "!conda install --yes pathlib \n",
    "#$ python -m pip install pathlib"
   ]
  },
  {
   "cell_type": "code",
   "execution_count": 67,
   "metadata": {},
   "outputs": [],
   "source": [
    "from pathlib import Path"
   ]
  },
  {
   "cell_type": "code",
   "execution_count": 94,
   "metadata": {},
   "outputs": [
    {
     "ename": "NameError",
     "evalue": "name 'file4' is not defined",
     "output_type": "error",
     "traceback": [
      "\u001b[1;31m---------------------------------------------------------------------------\u001b[0m",
      "\u001b[1;31mNameError\u001b[0m                                 Traceback (most recent call last)",
      "\u001b[1;32m<ipython-input-94-c995750cead4>\u001b[0m in \u001b[0;36m<module>\u001b[1;34m\u001b[0m\n\u001b[0;32m      9\u001b[0m \u001b[1;33m\u001b[0m\u001b[0m\n\u001b[0;32m     10\u001b[0m \u001b[0mFile_list\u001b[0m \u001b[1;33m=\u001b[0m \u001b[1;33m[\u001b[0m\u001b[0mfile1\u001b[0m\u001b[1;33m,\u001b[0m \u001b[0mfile2\u001b[0m\u001b[1;33m,\u001b[0m \u001b[0mfile3\u001b[0m\u001b[1;33m]\u001b[0m\u001b[1;33m\u001b[0m\u001b[1;33m\u001b[0m\u001b[0m\n\u001b[1;32m---> 11\u001b[1;33m \u001b[1;32mdel\u001b[0m\u001b[1;33m(\u001b[0m\u001b[0mfile1\u001b[0m\u001b[1;33m,\u001b[0m\u001b[0mfile2\u001b[0m\u001b[1;33m,\u001b[0m\u001b[0mfile3\u001b[0m\u001b[1;33m,\u001b[0m\u001b[0mfile4\u001b[0m\u001b[1;33m,\u001b[0m\u001b[0mfile5\u001b[0m\u001b[1;33m)\u001b[0m\u001b[1;33m\u001b[0m\u001b[1;33m\u001b[0m\u001b[0m\n\u001b[0m",
      "\u001b[1;31mNameError\u001b[0m: name 'file4' is not defined"
     ]
    }
   ],
   "source": [
    "#Defining path to files from the imports folder\n",
    "%pwd\n",
    "\n",
    "file1 = \"COSTES_E4E_EUROS.csv\"\n",
    "file2 = \"LIQUIDACIONES_EUROS.csv\"\n",
    "file3 = \"NUCLEAR_WASTES_EUROS.csv\"\n",
    "\n",
    "file5 = \"LIQUIDACIONES_MWH.csv\"\n",
    "\n",
    "File_list = [file1, file2, file3]\n",
    "del(file1,file2,file3,file4,file5)"
   ]
  },
  {
   "cell_type": "code",
   "execution_count": 95,
   "metadata": {},
   "outputs": [
    {
     "data": {
      "text/plain": [
       "['COSTES_E4E_EUROS.csv', 'LIQUIDACIONES_EUROS.csv', 'NUCLEAR_WASTES_EUROS.csv']"
      ]
     },
     "execution_count": 95,
     "metadata": {},
     "output_type": "execute_result"
    }
   ],
   "source": [
    "File_list"
   ]
  },
  {
   "cell_type": "code",
   "execution_count": 48,
   "metadata": {},
   "outputs": [],
   "source": [
    "#file1 = \"C:\\\\Users\\\\ES71531200G\\\\Desktop\\\\Data Science\\\\00.TFM\\\\Outputs\\\\COSTES_E4E_EUROS.csv\"\n",
    "file2 = \"..\\Outputs\\COSTES_E4E_EUROS.csv\""
   ]
  },
  {
   "cell_type": "code",
   "execution_count": 49,
   "metadata": {},
   "outputs": [],
   "source": [
    "#Importing directly with the read_csv function retrieves an error due to the encoding used by R during the exportation\n",
    "#The parametres encoding and sep solve the probem"
   ]
  },
  {
   "cell_type": "code",
   "execution_count": 53,
   "metadata": {},
   "outputs": [
    {
     "name": "stdout",
     "output_type": "stream",
     "text": [
      "C:\\Users\\ES71531200G\\Desktop\\Data Science\\00.TFM\n"
     ]
    },
    {
     "data": {
      "text/plain": [
       "'LIQUIDACIONES_EUROS.csv'"
      ]
     },
     "execution_count": 53,
     "metadata": {},
     "output_type": "execute_result"
    }
   ],
   "source": [
    "a = %pwd\n",
    "print(a)\n",
    "file2"
   ]
  },
  {
   "cell_type": "code",
   "execution_count": 54,
   "metadata": {},
   "outputs": [
    {
     "name": "stderr",
     "output_type": "stream",
     "text": [
      "C:\\Users\\ES71531200G\\AppData\\Local\\Continuum\\anaconda3\\lib\\site-packages\\IPython\\core\\interactiveshell.py:3049: DtypeWarning: Columns (0,8,9) have mixed types. Specify dtype option on import or set low_memory=False.\n",
      "  interactivity=interactivity, compiler=compiler, result=result)\n"
     ]
    },
    {
     "data": {
      "text/html": [
       "<div>\n",
       "<style scoped>\n",
       "    .dataframe tbody tr th:only-of-type {\n",
       "        vertical-align: middle;\n",
       "    }\n",
       "\n",
       "    .dataframe tbody tr th {\n",
       "        vertical-align: top;\n",
       "    }\n",
       "\n",
       "    .dataframe thead th {\n",
       "        text-align: right;\n",
       "    }\n",
       "</style>\n",
       "<table border=\"1\" class=\"dataframe\">\n",
       "  <thead>\n",
       "    <tr style=\"text-align: right;\">\n",
       "      <th></th>\n",
       "      <th>0</th>\n",
       "      <th>1</th>\n",
       "      <th>2</th>\n",
       "      <th>3</th>\n",
       "      <th>4</th>\n",
       "      <th>5</th>\n",
       "      <th>6</th>\n",
       "      <th>7</th>\n",
       "      <th>8</th>\n",
       "      <th>9</th>\n",
       "      <th>10</th>\n",
       "    </tr>\n",
       "  </thead>\n",
       "  <tbody>\n",
       "    <tr>\n",
       "      <th>0</th>\n",
       "      <td>FC_PERIODO</td>\n",
       "      <td>ID_UPR</td>\n",
       "      <td>ID_SOCIEDAD_AGENTE</td>\n",
       "      <td>ID_GRUPO_EMPRESARIAL</td>\n",
       "      <td>ID_TECNOLOGIA</td>\n",
       "      <td>ID_RDLCN</td>\n",
       "      <td>ID_MERCADO_ELECTRICO</td>\n",
       "      <td>ID_GRUPO</td>\n",
       "      <td>ID_CONTRATO_BILATERAL</td>\n",
       "      <td>I_N_TOT</td>\n",
       "      <td>ID_UNIDAD</td>\n",
       "    </tr>\n",
       "    <tr>\n",
       "      <th>1</th>\n",
       "      <td>201701</td>\n",
       "      <td>ACE3</td>\n",
       "      <td>IBEG</td>\n",
       "      <td>IBERDROLA</td>\n",
       "      <td>GN</td>\n",
       "      <td>NO</td>\n",
       "      <td>Banda</td>\n",
       "      <td>POOL</td>\n",
       "      <td>NaN</td>\n",
       "      <td>9175.7</td>\n",
       "      <td>EUROS</td>\n",
       "    </tr>\n",
       "    <tr>\n",
       "      <th>2</th>\n",
       "      <td>201701</td>\n",
       "      <td>ACE3</td>\n",
       "      <td>IBEG</td>\n",
       "      <td>IBERDROLA</td>\n",
       "      <td>GN</td>\n",
       "      <td>NO</td>\n",
       "      <td>G. Desvios</td>\n",
       "      <td>POOL</td>\n",
       "      <td>NaN</td>\n",
       "      <td>100696.62</td>\n",
       "      <td>EUROS</td>\n",
       "    </tr>\n",
       "    <tr>\n",
       "      <th>3</th>\n",
       "      <td>201701</td>\n",
       "      <td>ACE3</td>\n",
       "      <td>IBEG</td>\n",
       "      <td>IBERDROLA</td>\n",
       "      <td>GN</td>\n",
       "      <td>NO</td>\n",
       "      <td>G. Potencia Pagos</td>\n",
       "      <td>POOL</td>\n",
       "      <td>NaN</td>\n",
       "      <td>196590.72</td>\n",
       "      <td>EUROS</td>\n",
       "    </tr>\n",
       "    <tr>\n",
       "      <th>4</th>\n",
       "      <td>201701</td>\n",
       "      <td>ACE3</td>\n",
       "      <td>IBEG</td>\n",
       "      <td>IBERDROLA</td>\n",
       "      <td>GN</td>\n",
       "      <td>NO</td>\n",
       "      <td>I. G. Desvíos y Terciaria</td>\n",
       "      <td>POOL</td>\n",
       "      <td>NaN</td>\n",
       "      <td>-2831.31</td>\n",
       "      <td>EUROS</td>\n",
       "    </tr>\n",
       "  </tbody>\n",
       "</table>\n",
       "</div>"
      ],
      "text/plain": [
       "           0       1                   2                     3   \\\n",
       "0  FC_PERIODO  ID_UPR  ID_SOCIEDAD_AGENTE  ID_GRUPO_EMPRESARIAL   \n",
       "1      201701    ACE3                IBEG             IBERDROLA   \n",
       "2      201701    ACE3                IBEG             IBERDROLA   \n",
       "3      201701    ACE3                IBEG             IBERDROLA   \n",
       "4      201701    ACE3                IBEG             IBERDROLA   \n",
       "\n",
       "              4         5                          6         7   \\\n",
       "0  ID_TECNOLOGIA  ID_RDLCN       ID_MERCADO_ELECTRICO  ID_GRUPO   \n",
       "1             GN        NO                      Banda      POOL   \n",
       "2             GN        NO                 G. Desvios      POOL   \n",
       "3             GN        NO          G. Potencia Pagos      POOL   \n",
       "4             GN        NO  I. G. Desvíos y Terciaria      POOL   \n",
       "\n",
       "                      8          9          10  \n",
       "0  ID_CONTRATO_BILATERAL    I_N_TOT  ID_UNIDAD  \n",
       "1                    NaN     9175.7      EUROS  \n",
       "2                    NaN  100696.62      EUROS  \n",
       "3                    NaN  196590.72      EUROS  \n",
       "4                    NaN   -2831.31      EUROS  "
      ]
     },
     "execution_count": 54,
     "metadata": {},
     "output_type": "execute_result"
    }
   ],
   "source": [
    "df1 = pd.read_csv(file2, sep = ';', header = None , encoding = \"ISO-8859-1\")\n",
    "df1.head()"
   ]
  },
  {
   "cell_type": "code",
   "execution_count": 69,
   "metadata": {},
   "outputs": [
    {
     "name": "stdout",
     "output_type": "stream",
     "text": [
      "<class 'pandas.core.frame.DataFrame'>\n",
      "RangeIndex: 219772 entries, 0 to 219771\n",
      "Data columns (total 11 columns):\n",
      "0     219772 non-null object\n",
      "1     219772 non-null object\n",
      "2     219772 non-null object\n",
      "3     219772 non-null object\n",
      "4     219772 non-null object\n",
      "5     219772 non-null object\n",
      "6     219772 non-null object\n",
      "7     219772 non-null object\n",
      "8     7104 non-null object\n",
      "9     219772 non-null object\n",
      "10    219772 non-null object\n",
      "dtypes: object(11)\n",
      "memory usage: 18.4+ MB\n"
     ]
    }
   ],
   "source": [
    "df1.info()"
   ]
  },
  {
   "cell_type": "code",
   "execution_count": 70,
   "metadata": {},
   "outputs": [
    {
     "name": "stdout",
     "output_type": "stream",
     "text": [
      "COSTES_E4E_EUROS.csv\n",
      "LIQUIDACIONES_EUROS.csv\n",
      "LIQUIDACIONES_MWH.csv\n",
      "NUCLEAR_WASTES_EUROS.csv\n"
     ]
    }
   ],
   "source": [
    "for file in File_list:\n",
    "    print (file)\n"
   ]
  },
  {
   "cell_type": "code",
   "execution_count": null,
   "metadata": {},
   "outputs": [],
   "source": []
  },
  {
   "cell_type": "code",
   "execution_count": null,
   "metadata": {},
   "outputs": [],
   "source": []
  }
 ],
 "metadata": {
  "kernelspec": {
   "display_name": "Python 3",
   "language": "python",
   "name": "python3"
  },
  "language_info": {
   "codemirror_mode": {
    "name": "ipython",
    "version": 3
   },
   "file_extension": ".py",
   "mimetype": "text/x-python",
   "name": "python",
   "nbconvert_exporter": "python",
   "pygments_lexer": "ipython3",
   "version": "3.7.3"
  }
 },
 "nbformat": 4,
 "nbformat_minor": 2
}
