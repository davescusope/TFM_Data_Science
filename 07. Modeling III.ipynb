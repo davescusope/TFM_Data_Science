{
 "cells": [
  {
   "cell_type": "markdown",
   "metadata": {},
   "source": [
    "# Python TFM Section"
   ]
  },
  {
   "cell_type": "markdown",
   "metadata": {},
   "source": [
    "## Modelling III\n",
    "\n",
    "1. Develope and improve the most sucessful model"
   ]
  },
  {
   "cell_type": "code",
   "execution_count": 772,
   "metadata": {},
   "outputs": [
    {
     "name": "stdout",
     "output_type": "stream",
     "text": [
      "Populating the interactive namespace from numpy and matplotlib\n"
     ]
    }
   ],
   "source": [
    "from pathlib import Path\n",
    "from scipy import stats\n",
    "\n",
    "import sklearn\n",
    "import pandas as pd\n",
    "import numpy as np\n",
    "import matplotlib.pyplot as plt\n",
    "\n",
    "%matplotlib inline\n",
    "%pylab inline"
   ]
  },
  {
   "cell_type": "code",
   "execution_count": 773,
   "metadata": {},
   "outputs": [
    {
     "name": "stderr",
     "output_type": "stream",
     "text": [
      "C:\\Users\\ES71531200G\\AppData\\Local\\Continuum\\anaconda3\\lib\\site-packages\\ipykernel_launcher.py:28: SettingWithCopyWarning: \n",
      "A value is trying to be set on a copy of a slice from a DataFrame.\n",
      "Try using .loc[row_indexer,col_indexer] = value instead\n",
      "\n",
      "See the caveats in the documentation: http://pandas.pydata.org/pandas-docs/stable/indexing.html#indexing-view-versus-copy\n",
      "C:\\Users\\ES71531200G\\AppData\\Local\\Continuum\\anaconda3\\lib\\site-packages\\ipykernel_launcher.py:29: SettingWithCopyWarning: \n",
      "A value is trying to be set on a copy of a slice from a DataFrame.\n",
      "Try using .loc[row_indexer,col_indexer] = value instead\n",
      "\n",
      "See the caveats in the documentation: http://pandas.pydata.org/pandas-docs/stable/indexing.html#indexing-view-versus-copy\n"
     ]
    },
    {
     "data": {
      "text/html": [
       "<div>\n",
       "<style scoped>\n",
       "    .dataframe tbody tr th:only-of-type {\n",
       "        vertical-align: middle;\n",
       "    }\n",
       "\n",
       "    .dataframe tbody tr th {\n",
       "        vertical-align: top;\n",
       "    }\n",
       "\n",
       "    .dataframe thead th {\n",
       "        text-align: right;\n",
       "    }\n",
       "</style>\n",
       "<table border=\"1\" class=\"dataframe\">\n",
       "  <thead>\n",
       "    <tr style=\"text-align: right;\">\n",
       "      <th></th>\n",
       "      <th>POWER_MWH</th>\n",
       "      <th>t0</th>\n",
       "      <th>VERSION_Y</th>\n",
       "      <th>VERSION_M</th>\n",
       "      <th>VERSION2</th>\n",
       "      <th>BP</th>\n",
       "      <th>BX</th>\n",
       "      <th>CI</th>\n",
       "      <th>EB</th>\n",
       "      <th>GN</th>\n",
       "      <th>HN</th>\n",
       "      <th>LN</th>\n",
       "      <th>NC</th>\n",
       "    </tr>\n",
       "  </thead>\n",
       "  <tbody>\n",
       "    <tr>\n",
       "      <th>479</th>\n",
       "      <td>5139822.980</td>\n",
       "      <td>-3788860.0</td>\n",
       "      <td>2017</td>\n",
       "      <td>12</td>\n",
       "      <td>12</td>\n",
       "      <td>0</td>\n",
       "      <td>0</td>\n",
       "      <td>1</td>\n",
       "      <td>0</td>\n",
       "      <td>0</td>\n",
       "      <td>0</td>\n",
       "      <td>0</td>\n",
       "      <td>0</td>\n",
       "    </tr>\n",
       "    <tr>\n",
       "      <th>136</th>\n",
       "      <td>40149.960</td>\n",
       "      <td>-27768.0</td>\n",
       "      <td>2017</td>\n",
       "      <td>4</td>\n",
       "      <td>4</td>\n",
       "      <td>1</td>\n",
       "      <td>0</td>\n",
       "      <td>0</td>\n",
       "      <td>0</td>\n",
       "      <td>0</td>\n",
       "      <td>0</td>\n",
       "      <td>0</td>\n",
       "      <td>0</td>\n",
       "    </tr>\n",
       "    <tr>\n",
       "      <th>363</th>\n",
       "      <td>-116487.340</td>\n",
       "      <td>0.0</td>\n",
       "      <td>2017</td>\n",
       "      <td>9</td>\n",
       "      <td>9</td>\n",
       "      <td>1</td>\n",
       "      <td>0</td>\n",
       "      <td>0</td>\n",
       "      <td>0</td>\n",
       "      <td>0</td>\n",
       "      <td>0</td>\n",
       "      <td>0</td>\n",
       "      <td>0</td>\n",
       "    </tr>\n",
       "    <tr>\n",
       "      <th>132</th>\n",
       "      <td>281603.021</td>\n",
       "      <td>-187764.0</td>\n",
       "      <td>2017</td>\n",
       "      <td>4</td>\n",
       "      <td>4</td>\n",
       "      <td>0</td>\n",
       "      <td>0</td>\n",
       "      <td>0</td>\n",
       "      <td>1</td>\n",
       "      <td>0</td>\n",
       "      <td>0</td>\n",
       "      <td>0</td>\n",
       "      <td>0</td>\n",
       "    </tr>\n",
       "    <tr>\n",
       "      <th>238</th>\n",
       "      <td>250413.622</td>\n",
       "      <td>-975308.0</td>\n",
       "      <td>2017</td>\n",
       "      <td>6</td>\n",
       "      <td>6</td>\n",
       "      <td>0</td>\n",
       "      <td>0</td>\n",
       "      <td>0</td>\n",
       "      <td>1</td>\n",
       "      <td>0</td>\n",
       "      <td>0</td>\n",
       "      <td>0</td>\n",
       "      <td>0</td>\n",
       "    </tr>\n",
       "    <tr>\n",
       "      <th>778</th>\n",
       "      <td>4497129.361</td>\n",
       "      <td>-10598783.0</td>\n",
       "      <td>2018</td>\n",
       "      <td>8</td>\n",
       "      <td>20</td>\n",
       "      <td>0</td>\n",
       "      <td>0</td>\n",
       "      <td>0</td>\n",
       "      <td>0</td>\n",
       "      <td>0</td>\n",
       "      <td>0</td>\n",
       "      <td>1</td>\n",
       "      <td>0</td>\n",
       "    </tr>\n",
       "    <tr>\n",
       "      <th>627</th>\n",
       "      <td>5128846.580</td>\n",
       "      <td>-8944226.0</td>\n",
       "      <td>2018</td>\n",
       "      <td>4</td>\n",
       "      <td>16</td>\n",
       "      <td>0</td>\n",
       "      <td>0</td>\n",
       "      <td>1</td>\n",
       "      <td>0</td>\n",
       "      <td>0</td>\n",
       "      <td>0</td>\n",
       "      <td>0</td>\n",
       "      <td>0</td>\n",
       "    </tr>\n",
       "    <tr>\n",
       "      <th>700</th>\n",
       "      <td>-84689.440</td>\n",
       "      <td>0.0</td>\n",
       "      <td>2018</td>\n",
       "      <td>6</td>\n",
       "      <td>18</td>\n",
       "      <td>1</td>\n",
       "      <td>0</td>\n",
       "      <td>0</td>\n",
       "      <td>0</td>\n",
       "      <td>0</td>\n",
       "      <td>0</td>\n",
       "      <td>0</td>\n",
       "      <td>0</td>\n",
       "    </tr>\n",
       "    <tr>\n",
       "      <th>469</th>\n",
       "      <td>2138450.150</td>\n",
       "      <td>-3752655.0</td>\n",
       "      <td>2017</td>\n",
       "      <td>12</td>\n",
       "      <td>12</td>\n",
       "      <td>0</td>\n",
       "      <td>0</td>\n",
       "      <td>0</td>\n",
       "      <td>0</td>\n",
       "      <td>1</td>\n",
       "      <td>0</td>\n",
       "      <td>0</td>\n",
       "      <td>0</td>\n",
       "    </tr>\n",
       "    <tr>\n",
       "      <th>91</th>\n",
       "      <td>-51527.740</td>\n",
       "      <td>0.0</td>\n",
       "      <td>2017</td>\n",
       "      <td>3</td>\n",
       "      <td>3</td>\n",
       "      <td>1</td>\n",
       "      <td>0</td>\n",
       "      <td>0</td>\n",
       "      <td>0</td>\n",
       "      <td>0</td>\n",
       "      <td>0</td>\n",
       "      <td>0</td>\n",
       "      <td>0</td>\n",
       "    </tr>\n",
       "  </tbody>\n",
       "</table>\n",
       "</div>"
      ],
      "text/plain": [
       "       POWER_MWH          t0  VERSION_Y  VERSION_M  VERSION2  BP  BX  CI  EB  \\\n",
       "479  5139822.980  -3788860.0       2017         12        12   0   0   1   0   \n",
       "136    40149.960    -27768.0       2017          4         4   1   0   0   0   \n",
       "363  -116487.340         0.0       2017          9         9   1   0   0   0   \n",
       "132   281603.021   -187764.0       2017          4         4   0   0   0   1   \n",
       "238   250413.622   -975308.0       2017          6         6   0   0   0   1   \n",
       "778  4497129.361 -10598783.0       2018          8        20   0   0   0   0   \n",
       "627  5128846.580  -8944226.0       2018          4        16   0   0   1   0   \n",
       "700   -84689.440         0.0       2018          6        18   1   0   0   0   \n",
       "469  2138450.150  -3752655.0       2017         12        12   0   0   0   0   \n",
       "91    -51527.740         0.0       2017          3         3   1   0   0   0   \n",
       "\n",
       "     GN  HN  LN  NC  \n",
       "479   0   0   0   0  \n",
       "136   0   0   0   0  \n",
       "363   0   0   0   0  \n",
       "132   0   0   0   0  \n",
       "238   0   0   0   0  \n",
       "778   0   0   1   0  \n",
       "627   0   0   0   0  \n",
       "700   0   0   0   0  \n",
       "469   1   0   0   0  \n",
       "91    0   0   0   0  "
      ]
     },
     "execution_count": 773,
     "metadata": {},
     "output_type": "execute_result"
    }
   ],
   "source": [
    "df_modelize = pd.read_csv(Path.cwd() / 'Outputs' / 'DF_MODELIZE.csv', sep = ';', header = 0 , encoding = \"ISO-8859-1\",decimal=',')\n",
    "df_modelize = df_modelize.fillna(0)\n",
    "\n",
    "df_modelize['INTEGRAL_COSTS']  = \\\n",
    "df_modelize['AMONIACO'] + \\\n",
    "df_modelize['ATR'] + \\\n",
    "df_modelize['BONO_SOCIAL_PEGO'] + \\\n",
    "df_modelize['CALIZAS'] + \\\n",
    "df_modelize['CANON HID'] + \\\n",
    "df_modelize['CANON_CONCESION'] + \\\n",
    "df_modelize['CANON_HID_CATALUÃÂA'] + \\\n",
    "df_modelize['CANON_NC_CATALUÃÂA'] + \\\n",
    "df_modelize['CANON_NC_EST'] + \\\n",
    "df_modelize['CENTIMO_VERDE'] + \\\n",
    "df_modelize['COSTE_COMBUSTIBLE'] + \\\n",
    "df_modelize['IMPUESTO ELECT'] + \\\n",
    "df_modelize['LUBRICANTES'] + \\\n",
    "df_modelize['OTROS'] + \\\n",
    "df_modelize['PEAJE GEN'] +  \\\n",
    "df_modelize['RELIQ_CANON_NC_CATALUÃÂA'] +  \\\n",
    "df_modelize['SERV_GEST_RES'] + \\\n",
    "df_modelize['TASAS_MEDIOAMB'] + \\\n",
    "df_modelize['TASA_ARAGON'] \n",
    "\n",
    "\n",
    "\n",
    "df_modelize2 = df_modelize[['VERSION','ID_TECNOLOGIA','POWER_MWH','INTEGRAL_COSTS']]\n",
    "df_modelize2['VERSION_Y'] = df_modelize2['VERSION'].astype(str).str[:-2].astype(np.int64)\n",
    "df_modelize2['VERSION_M'] = df_modelize2['VERSION'].astype(str).str[4:].astype(np.int64)\n",
    "df_modelize2 = df_modelize2.drop(df_modelize2[df_modelize2['INTEGRAL_COSTS'] > 0].index)\n",
    "\n",
    "#GENERO TRES COLUMNAS PARA LAS FECHAS, \n",
    "#UNA PARA EL AÑO PARA SABER EL PERIODO EN EL QUE ESTOY, \n",
    "#OTRA QUE ES EL NUMERO DEL MES DESDE 1 A 24 PARA QUE EL MODELO SEPA LA SUCESIÓN EN QUE ORDEN VA YA QUE 201712 ESTÁ MUY LEJOS DE 201801\n",
    "#LA TERCERA ES EL MES PARA QUE ENTIENDA LAS ASOCIACIONES QUE HAY ENTRE ENERO-ENERO, FEBRERO-FEBRERO\n",
    "\n",
    "#LE APLICO UN ONEHOT PARA LAS TECNOLOGIAS\n",
    "\n",
    "\n",
    "df_month = df_modelize2['VERSION'].drop_duplicates().reset_index()\n",
    "df_month = df_month['VERSION'].reset_index()\n",
    "df_month.rename(columns={'index':'VERSION2'}, inplace=True)\n",
    "df_modelize2 = pd.merge(df_modelize2, df_month, on=['VERSION'], how='left')\n",
    "df_modelize2 = df_modelize2.drop(columns=['VERSION'])\n",
    "df_modelize2['VERSION2'] = df_modelize2['VERSION2'] + 1\n",
    "\n",
    "# df_modelize2 = df_modelize2[df_modelize2['ID_TECNOLOGIA'] != 'BP']\n",
    "# df_modelize2 = df_modelize2[df_modelize2['ID_TECNOLOGIA'] != 'BX']\n",
    "\n",
    "DTECH = pd.get_dummies(pd.Series(list(df_modelize2['ID_TECNOLOGIA'])))\n",
    "df_modelize2 = pd.merge(df_modelize2, DTECH, left_index=True, right_index=True)\n",
    "df_modelize2 = df_modelize2.drop(columns=['ID_TECNOLOGIA'])\n",
    "df_modelize2.rename(columns={'INTEGRAL_COSTS':'t0'}, inplace=True)\n",
    "df_modelize2.sample(10)"
   ]
  },
  {
   "cell_type": "code",
   "execution_count": 774,
   "metadata": {},
   "outputs": [
    {
     "data": {
      "text/html": [
       "<div>\n",
       "<style scoped>\n",
       "    .dataframe tbody tr th:only-of-type {\n",
       "        vertical-align: middle;\n",
       "    }\n",
       "\n",
       "    .dataframe tbody tr th {\n",
       "        vertical-align: top;\n",
       "    }\n",
       "\n",
       "    .dataframe thead th {\n",
       "        text-align: right;\n",
       "    }\n",
       "</style>\n",
       "<table border=\"1\" class=\"dataframe\">\n",
       "  <thead>\n",
       "    <tr style=\"text-align: right;\">\n",
       "      <th></th>\n",
       "      <th>POWER_MWH</th>\n",
       "      <th>t0</th>\n",
       "      <th>VERSION_Y</th>\n",
       "      <th>VERSION_M</th>\n",
       "      <th>VERSION2</th>\n",
       "      <th>BP</th>\n",
       "      <th>BX</th>\n",
       "      <th>CI</th>\n",
       "      <th>EB</th>\n",
       "      <th>GN</th>\n",
       "      <th>HN</th>\n",
       "      <th>LN</th>\n",
       "      <th>NC</th>\n",
       "      <th>t1</th>\n",
       "    </tr>\n",
       "  </thead>\n",
       "  <tbody>\n",
       "    <tr>\n",
       "      <th>1</th>\n",
       "      <td>940091.558</td>\n",
       "      <td>-11215426.0</td>\n",
       "      <td>2017</td>\n",
       "      <td>1</td>\n",
       "      <td>1</td>\n",
       "      <td>0</td>\n",
       "      <td>0</td>\n",
       "      <td>0</td>\n",
       "      <td>0</td>\n",
       "      <td>0</td>\n",
       "      <td>0</td>\n",
       "      <td>0</td>\n",
       "      <td>1</td>\n",
       "      <td>-12774780.0</td>\n",
       "    </tr>\n",
       "    <tr>\n",
       "      <th>2</th>\n",
       "      <td>-1418.032</td>\n",
       "      <td>0.0</td>\n",
       "      <td>2017</td>\n",
       "      <td>1</td>\n",
       "      <td>1</td>\n",
       "      <td>0</td>\n",
       "      <td>0</td>\n",
       "      <td>0</td>\n",
       "      <td>0</td>\n",
       "      <td>0</td>\n",
       "      <td>0</td>\n",
       "      <td>0</td>\n",
       "      <td>1</td>\n",
       "      <td>-11215426.0</td>\n",
       "    </tr>\n",
       "    <tr>\n",
       "      <th>3</th>\n",
       "      <td>22830.702</td>\n",
       "      <td>-242300.0</td>\n",
       "      <td>2017</td>\n",
       "      <td>1</td>\n",
       "      <td>1</td>\n",
       "      <td>0</td>\n",
       "      <td>0</td>\n",
       "      <td>0</td>\n",
       "      <td>1</td>\n",
       "      <td>0</td>\n",
       "      <td>0</td>\n",
       "      <td>0</td>\n",
       "      <td>0</td>\n",
       "      <td>0.0</td>\n",
       "    </tr>\n",
       "    <tr>\n",
       "      <th>4</th>\n",
       "      <td>-418.593</td>\n",
       "      <td>-21771.0</td>\n",
       "      <td>2017</td>\n",
       "      <td>1</td>\n",
       "      <td>1</td>\n",
       "      <td>0</td>\n",
       "      <td>1</td>\n",
       "      <td>0</td>\n",
       "      <td>0</td>\n",
       "      <td>0</td>\n",
       "      <td>0</td>\n",
       "      <td>0</td>\n",
       "      <td>0</td>\n",
       "      <td>-242300.0</td>\n",
       "    </tr>\n",
       "    <tr>\n",
       "      <th>5</th>\n",
       "      <td>11909.436</td>\n",
       "      <td>-105460.0</td>\n",
       "      <td>2017</td>\n",
       "      <td>1</td>\n",
       "      <td>1</td>\n",
       "      <td>0</td>\n",
       "      <td>0</td>\n",
       "      <td>0</td>\n",
       "      <td>1</td>\n",
       "      <td>0</td>\n",
       "      <td>0</td>\n",
       "      <td>0</td>\n",
       "      <td>0</td>\n",
       "      <td>-21771.0</td>\n",
       "    </tr>\n",
       "  </tbody>\n",
       "</table>\n",
       "</div>"
      ],
      "text/plain": [
       "    POWER_MWH          t0  VERSION_Y  VERSION_M  VERSION2  BP  BX  CI  EB  GN  \\\n",
       "1  940091.558 -11215426.0       2017          1         1   0   0   0   0   0   \n",
       "2   -1418.032         0.0       2017          1         1   0   0   0   0   0   \n",
       "3   22830.702   -242300.0       2017          1         1   0   0   0   1   0   \n",
       "4    -418.593    -21771.0       2017          1         1   0   1   0   0   0   \n",
       "5   11909.436   -105460.0       2017          1         1   0   0   0   1   0   \n",
       "\n",
       "   HN  LN  NC          t1  \n",
       "1   0   0   1 -12774780.0  \n",
       "2   0   0   1 -11215426.0  \n",
       "3   0   0   0         0.0  \n",
       "4   0   0   0   -242300.0  \n",
       "5   0   0   0    -21771.0  "
      ]
     },
     "execution_count": 774,
     "metadata": {},
     "output_type": "execute_result"
    }
   ],
   "source": [
    "input_col = []\n",
    "for i in range(2):\n",
    "    input_col.append(\"t\"+str(i))\n",
    "    df_modelize2[\"t\"+str(i)]=df_modelize2[\"t0\"].shift(i)\n",
    "df_modelize2=df_modelize2.dropna()\n",
    "df_modelize2.head(5)"
   ]
  },
  {
   "cell_type": "code",
   "execution_count": 775,
   "metadata": {},
   "outputs": [
    {
     "name": "stdout",
     "output_type": "stream",
     "text": [
      "(938, 14)\n"
     ]
    },
    {
     "data": {
      "text/plain": [
       "Index(['POWER_MWH', 't0', 'VERSION_Y', 'VERSION_M', 'VERSION2', 'BP', 'BX',\n",
       "       'CI', 'EB', 'GN', 'HN', 'LN', 'NC', 't1'],\n",
       "      dtype='object')"
      ]
     },
     "execution_count": 775,
     "metadata": {},
     "output_type": "execute_result"
    }
   ],
   "source": [
    "print(df_modelize2.shape)\n",
    "df_modelize2.columns"
   ]
  },
  {
   "cell_type": "markdown",
   "metadata": {},
   "source": [
    "# Model Aplication"
   ]
  },
  {
   "cell_type": "markdown",
   "metadata": {},
   "source": [
    "## Instances Creation"
   ]
  },
  {
   "cell_type": "code",
   "execution_count": 776,
   "metadata": {},
   "outputs": [],
   "source": [
    "# Import Library\n",
    "from sklearn.model_selection import train_test_split\n",
    "from sklearn.preprocessing import StandardScaler\n",
    "\n",
    "X = df_modelize2[['POWER_MWH','VERSION_Y', 'VERSION_M', 'VERSION2', 'CI', 'EB','GN', 'HN', 'LN', 'NC','t1','BP','BX']]\n",
    "y = df_modelize2['t0']\n",
    "\n",
    "\n",
    "# Create Instance\n",
    "X_train, X_test, y_train, y_test = train_test_split(X,y, test_size=0.10 , random_state = 42)"
   ]
  },
  {
   "cell_type": "code",
   "execution_count": 777,
   "metadata": {},
   "outputs": [],
   "source": [
    "from sklearn.preprocessing import StandardScaler\n",
    "scaler = StandardScaler()\n",
    "colnames = X_train.columns"
   ]
  },
  {
   "cell_type": "code",
   "execution_count": 778,
   "metadata": {},
   "outputs": [
    {
     "data": {
      "text/plain": [
       "(844, 13)"
      ]
     },
     "execution_count": 778,
     "metadata": {},
     "output_type": "execute_result"
    }
   ],
   "source": [
    "Xs_train = scaler.fit_transform(X_train.values)\n",
    "Xs_train = pd.DataFrame(Xs_train)\n",
    "Xs_train.columns = colnames\n",
    "Xs_train.shape"
   ]
  },
  {
   "cell_type": "code",
   "execution_count": 779,
   "metadata": {},
   "outputs": [
    {
     "data": {
      "text/plain": [
       "(94, 13)"
      ]
     },
     "execution_count": 779,
     "metadata": {},
     "output_type": "execute_result"
    }
   ],
   "source": [
    "Xs_test = scaler.fit_transform(X_test.values)\n",
    "Xs_test = pd.DataFrame(Xs_test)\n",
    "Xs_test.columns = colnames\n",
    "Xs_test.shape"
   ]
  },
  {
   "cell_type": "code",
   "execution_count": 780,
   "metadata": {},
   "outputs": [],
   "source": [
    "## Code for inversing the transformation once the predictor is used\n",
    "# df_Unscaled = scaler.inverse_transform(df_Scaled)\n",
    "# df_Unscaled = pd.DataFrame(df_Unscaled)\n",
    "# df_Unscaled.columns = colnames\n",
    "# df_Unscaled.head(5)"
   ]
  },
  {
   "cell_type": "markdown",
   "metadata": {},
   "source": [
    "## XGBoost"
   ]
  },
  {
   "cell_type": "code",
   "execution_count": 781,
   "metadata": {},
   "outputs": [],
   "source": [
    "# Load the library\n",
    "import xgboost as XGB\n",
    "# Create an instance\n",
    "regXGB = XGB.XGBRegressor(n_estimators=100, \n",
    "                          learning_rate=0.1, \n",
    "                          gamma=0, \n",
    "                          subsample=0.7,\n",
    "                          colsample_bytree=1, \n",
    "                          max_depth=6)\n",
    "# Fit the data\n",
    "regXGB.fit(Xs_train,y_train)\n",
    "# Do predictions\n",
    "y_regXGB_pred = regXGB.predict(Xs_test)"
   ]
  },
  {
   "cell_type": "code",
   "execution_count": 782,
   "metadata": {},
   "outputs": [
    {
     "name": "stdout",
     "output_type": "stream",
     "text": [
      "2415997303176.5903\n",
      "Mean error represents  22.0 % from the mean value\n"
     ]
    },
    {
     "data": {
      "image/png": "[encoded data removed]",
      "text/plain": [
       "<Figure size 432x288 with 1 Axes>"
      ]
     },
     "metadata": {
      "needs_background": "light"
     },
     "output_type": "display_data"
    }
   ],
   "source": [
    "from sklearn.metrics import mean_squared_error\n",
    "\n",
    "print(mean_squared_error(y_test,y_regXGB_pred))\n",
    "print(\"Mean error represents \", round(100*mean_squared_error(y_test,y_regXGB_pred)/y_test.mean()**2), \"% from the mean value\")\n",
    "plt.hist(y_test-y_regXGB_pred,bins=50);"
   ]
  },
  {
   "cell_type": "markdown",
   "metadata": {},
   "source": [
    "Let's apply the cross validation to the model for the future comparation"
   ]
  },
  {
   "cell_type": "code",
   "execution_count": 783,
   "metadata": {},
   "outputs": [],
   "source": [
    "from sklearn.model_selection import cross_val_score\n",
    "score_XGB = cross_val_score(regXGB,Xs_train,y_train,  cv=5,scoring = 'neg_mean_squared_error').mean()\n"
   ]
  },
  {
   "cell_type": "markdown",
   "metadata": {},
   "source": [
    "## XGBoost with GridSearchCV [Final Model]"
   ]
  },
  {
   "cell_type": "code",
   "execution_count": 784,
   "metadata": {},
   "outputs": [],
   "source": [
    "# Load the library\n",
    "from sklearn.model_selection import GridSearchCV"
   ]
  },
  {
   "cell_type": "markdown",
   "metadata": {},
   "source": [
    "This GScv is the longest to be trained, but it's still pretty fast <<5.9min finished>>"
   ]
  },
  {
   "cell_type": "code",
   "execution_count": 785,
   "metadata": {},
   "outputs": [
    {
     "name": "stdout",
     "output_type": "stream",
     "text": [
      "Fitting 5 folds for each of 84 candidates, totalling 420 fits\n"
     ]
    },
    {
     "name": "stderr",
     "output_type": "stream",
     "text": [
      "[Parallel(n_jobs=-1)]: Using backend LokyBackend with 4 concurrent workers.\n",
      "[Parallel(n_jobs=-1)]: Done  10 tasks      | elapsed:   12.4s\n",
      "[Parallel(n_jobs=-1)]: Done  24 tasks      | elapsed:   22.1s\n",
      "[Parallel(n_jobs=-1)]: Done  42 tasks      | elapsed:   32.8s\n",
      "[Parallel(n_jobs=-1)]: Done  64 tasks      | elapsed:   49.4s\n",
      "[Parallel(n_jobs=-1)]: Done  90 tasks      | elapsed:  1.1min\n",
      "[Parallel(n_jobs=-1)]: Done 120 tasks      | elapsed:  1.6min\n",
      "[Parallel(n_jobs=-1)]: Done 154 tasks      | elapsed:  2.2min\n",
      "[Parallel(n_jobs=-1)]: Done 192 tasks      | elapsed:  2.8min\n",
      "[Parallel(n_jobs=-1)]: Done 234 tasks      | elapsed:  3.4min\n",
      "[Parallel(n_jobs=-1)]: Done 280 tasks      | elapsed:  4.0min\n",
      "[Parallel(n_jobs=-1)]: Done 330 tasks      | elapsed:  4.6min\n",
      "[Parallel(n_jobs=-1)]: Done 384 tasks      | elapsed:  5.4min\n",
      "[Parallel(n_jobs=-1)]: Done 420 out of 420 | elapsed:  5.8min finished\n",
      "C:\\Users\\ES71531200G\\AppData\\Local\\Continuum\\anaconda3\\lib\\site-packages\\sklearn\\model_selection\\_search.py:841: DeprecationWarning: The default of the `iid` parameter will change from True to False in version 0.22 and will be removed in 0.24. This will change numeric results when test-set sizes are unequal.\n",
      "  DeprecationWarning)\n"
     ]
    },
    {
     "name": "stdout",
     "output_type": "stream",
     "text": [
      "{'colsample_bytree': 0.9, 'learning_rate': 0.01, 'max_depth': 4, 'n_estimators': 500, 'nthread': 4, 'silent': 1, 'subsample': 0.7}\n",
      "-5031854322956.231\n",
      "2539179632504.9673\n",
      "Mean error represents  24.0 % from the mean value\n"
     ]
    },
    {
     "data": {
      "image/png": "[encoded data removed]",
      "text/plain": [
       "<Figure size 432x288 with 1 Axes>"
      ]
     },
     "metadata": {
      "needs_background": "light"
     },
     "output_type": "display_data"
    }
   ],
   "source": [
    "# Load the library\n",
    "from sklearn.model_selection import GridSearchCV\n",
    "from xgboost.sklearn import XGBRegressor\n",
    "\n",
    "\n",
    "# Create an instance\n",
    "        \n",
    "xgb1 = XGBRegressor()\n",
    "parameters = {'nthread':[4], \n",
    "              'learning_rate': [0.01, 0.05, 0.11], \n",
    "              'max_depth':np.arange(3,10),\n",
    "              'silent': [1],\n",
    "              'subsample': [0.7],\n",
    "              'colsample_bytree':[0.3,0.6,0.9,1],\n",
    "              'n_estimators': [500]}\n",
    "\n",
    "regXGBGS = GridSearchCV(xgb1,\n",
    "                        parameters,\n",
    "                        cv = 5,\n",
    "                        n_jobs = -1,\n",
    "                        scoring=\"neg_mean_squared_error\",\n",
    "                        verbose=9)\n",
    "\n",
    "# Fit the data\n",
    "regXGBGS.fit(Xs_train,y_train)\n",
    "\n",
    "\n",
    "print(regXGBGS.best_params_)\n",
    "print(regXGBGS.best_score_)\n",
    "score_XGBGS=regXGBGS.best_score_\n",
    "\n",
    "regXGBGS = regXGBGS.best_estimator_\n",
    "\n",
    "\n",
    "# Do predictions\n",
    "y_regXGBGS_pred = regXGBGS.predict(Xs_test)\n",
    "print(mean_squared_error(y_test,y_regXGBGS_pred))\n",
    "print(\"Mean error represents \", round(100*mean_squared_error(y_test,y_regXGBGS_pred) /y_test.mean()**2), \"% from the mean value\")\n",
    "plt.hist(y_test-y_regXGBGS_pred,bins=50);"
   ]
  },
  {
   "cell_type": "markdown",
   "metadata": {},
   "source": [
    "Finally, let's show the answer to my very stucked question of how could it be better a model without GS than with it.."
   ]
  },
  {
   "cell_type": "code",
   "execution_count": 788,
   "metadata": {},
   "outputs": [
    {
     "name": "stdout",
     "output_type": "stream",
     "text": [
      "The error with GridSearchCv is : -5031854322956.231\n",
      "The error without GS but with Cv is : -5646076182423.424\n"
     ]
    }
   ],
   "source": [
    "print(\"The error with GridSearchCv is :\", score_XGBGS)\n",
    "print(\"The error without GS but with Cv is :\",score_XGB)"
   ]
  },
  {
   "cell_type": "markdown",
   "metadata": {},
   "source": [
    "Ahahá!, Finally we let it clear; **GS minimize the error with a deeper rate of confidence** thank to the cross validation instead of focusing ONLY in just one distribution of test and train"
   ]
  },
  {
   "cell_type": "markdown",
   "metadata": {},
   "source": [
    "## Overfitting the model"
   ]
  },
  {
   "cell_type": "markdown",
   "metadata": {},
   "source": [
    "## XGBoost"
   ]
  },
  {
   "cell_type": "markdown",
   "metadata": {},
   "source": [
    "Interesting results are shown when removing the values with greater errors, eliminating them greatly improves the error distribution (which can be seen in the histogram), but very large point errors appear in other points previously assigned better. \n",
    "\n",
    "That is, it surely overfitting, losing the ability to generalize.\n",
    "\n",
    "After an iteration, we eliminate the 5 values that give the most errors in the model and we re-train it"
   ]
  },
  {
   "cell_type": "code",
   "execution_count": 737,
   "metadata": {},
   "outputs": [],
   "source": [
    "df_modelize3 = df_modelize2.copy().drop(pd.DataFrame(np.abs(y_test-y_regXGB_pred)).sort_values(by=['t0'],ascending = False).head(5).index)\n",
    "\n",
    "X2 = df_modelize3[['POWER_MWH','VERSION_Y', 'VERSION_M', 'VERSION2', 'CI', 'EB','GN', 'HN', 'LN', 'NC','t1','BP','BX']]\n",
    "y2 = df_modelize3['t0']\n",
    "\n",
    "\n",
    "# Create Instance\n",
    "X2_train, X2_test, y2_train, y2_test = train_test_split(X2,y2, test_size=0.10 , random_state = 42)\n",
    "\n",
    "\n",
    "scaler2 = StandardScaler()\n",
    "colnames2 = X2_train.columns\n",
    "\n",
    "X2s_train = scaler2.fit_transform(X2_train.values)\n",
    "X2s_train = pd.DataFrame(X2s_train)\n",
    "X2s_train.columns = colnames2\n",
    "X2s_test = scaler2.fit_transform(X2_test.values)\n",
    "X2s_test = pd.DataFrame(X2s_test)\n",
    "X2s_test.columns = colnames2"
   ]
  },
  {
   "cell_type": "code",
   "execution_count": 738,
   "metadata": {},
   "outputs": [
    {
     "name": "stdout",
     "output_type": "stream",
     "text": [
      "5597515214590.449\n",
      "Mean error represents  63.0 % from the mean value\n"
     ]
    },
    {
     "data": {
      "image/png": "[encoded data removed]",
      "text/plain": [
       "<Figure size 432x288 with 1 Axes>"
      ]
     },
     "metadata": {
      "needs_background": "light"
     },
     "output_type": "display_data"
    }
   ],
   "source": [
    "# Load the library\n",
    "import xgboost as XGB2\n",
    "# Create an instance\n",
    "regXGB2 = XGB2.XGBRegressor(n_estimators=100, \n",
    "                          learning_rate=0.1, \n",
    "                          gamma=0, \n",
    "                          subsample=0.7,\n",
    "                          colsample_bytree=1, \n",
    "                          max_depth=6)\n",
    "# Fit the data\n",
    "regXGB2.fit(X2s_train,y2_train)\n",
    "# Do predictions\n",
    "y2_regXGB_pred = regXGB2.predict(X2s_test)\n",
    "\n",
    "from sklearn.metrics import mean_squared_error\n",
    "\n",
    "print(mean_squared_error(y2_test,y2_regXGB_pred))\n",
    "print(\"Mean error represents \", round(100*mean_squared_error(y2_test,y2_regXGB_pred)/y2_test.mean()**2), \"% from the mean value\")\n",
    "plt.hist(y2_test-y2_regXGB_pred,bins=50);"
   ]
  },
  {
   "cell_type": "markdown",
   "metadata": {},
   "source": [
    "As we said, it improves the histogram but a point appears with a huge error, in fact, if we eliminate that single point, it improves the accuracy incredibly (although it is still cheating)"
   ]
  },
  {
   "cell_type": "code",
   "execution_count": 739,
   "metadata": {},
   "outputs": [
    {
     "name": "stdout",
     "output_type": "stream",
     "text": [
      "Mean error represents  18 % from the mean value\n"
     ]
    },
    {
     "data": {
      "image/png": "[encoded data removed]",
      "text/plain": [
       "<Figure size 432x288 with 1 Axes>"
      ]
     },
     "metadata": {
      "needs_background": "light"
     },
     "output_type": "display_data"
    }
   ],
   "source": [
    "new_hist=pd.DataFrame(y2_test-y2_regXGB_pred).sort_values(by=['t0'],ascending = True).iloc[1:]\n",
    "print(\"Mean error represents \",round(math.sqrt((new_hist['t0']**2).sum())*10**7/(y2_test.mean()**2)), \"% from the mean value\")\n",
    "plt.hist(new_hist['t0'],bins=50);"
   ]
  },
  {
   "cell_type": "markdown",
   "metadata": {},
   "source": [
    "Finally, if we compare this vitamin distribution with the original model, we see how the vitamin one predicts better, but on a much more selective and selected data. \n",
    "\n",
    "**That is, it actually generalizes worse**"
   ]
  },
  {
   "cell_type": "code",
   "execution_count": 740,
   "metadata": {},
   "outputs": [
    {
     "data": {
      "image/png": "[encoded data removed]",
      "text/plain": [
       "<Figure size 432x288 with 1 Axes>"
      ]
     },
     "metadata": {
      "needs_background": "light"
     },
     "output_type": "display_data"
    }
   ],
   "source": [
    "plt.hist(y_test-y_regXGB_pred,bins=50);\n",
    "plt.title('Histograma Oirignal vs Nueva distribución')\n",
    "plt.hist(new_hist['t0'],bins=50);"
   ]
  }
 ],
 "metadata": {
  "kernelspec": {
   "display_name": "Python 3",
   "language": "python",
   "name": "python3"
  },
  "language_info": {
   "codemirror_mode": {
    "name": "ipython",
    "version": 3
   },
   "file_extension": ".py",
   "mimetype": "text/x-python",
   "name": "python",
   "nbconvert_exporter": "python",
   "pygments_lexer": "ipython3",
   "version": "3.7.3"
  }
 },
 "nbformat": 4,
 "nbformat_minor": 2
}
