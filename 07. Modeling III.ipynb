{
 "cells": [
  {
   "cell_type": "markdown",
   "metadata": {},
   "source": [
    "# Python TFM Section"
   ]
  },
  {
   "cell_type": "markdown",
   "metadata": {},
   "source": [
    "## Modelling III\n",
    "\n",
    "1. Develope and improve the most sucessful model"
   ]
  },
  {
   "cell_type": "code",
   "execution_count": 60,
   "metadata": {},
   "outputs": [
    {
     "name": "stdout",
     "output_type": "stream",
     "text": [
      "Populating the interactive namespace from numpy and matplotlib\n"
     ]
    }
   ],
   "source": [
    "from pathlib import Path\n",
    "from scipy import stats\n",
    "\n",
    "import sklearn\n",
    "import pandas as pd\n",
    "import numpy as np\n",
    "import matplotlib.pyplot as plt\n",
    "\n",
    "%matplotlib inline\n",
    "%pylab inline"
   ]
  },
  {
   "cell_type": "code",
   "execution_count": 77,
   "metadata": {},
   "outputs": [
    {
     "data": {
      "text/html": [
       "<div>\n",
       "<style scoped>\n",
       "    .dataframe tbody tr th:only-of-type {\n",
       "        vertical-align: middle;\n",
       "    }\n",
       "\n",
       "    .dataframe tbody tr th {\n",
       "        vertical-align: top;\n",
       "    }\n",
       "\n",
       "    .dataframe thead th {\n",
       "        text-align: right;\n",
       "    }\n",
       "</style>\n",
       "<table border=\"1\" class=\"dataframe\">\n",
       "  <thead>\n",
       "    <tr style=\"text-align: right;\">\n",
       "      <th></th>\n",
       "      <th>VERSION</th>\n",
       "      <th>POWER_MWH</th>\n",
       "      <th>INTEGRAL_COSTS</th>\n",
       "      <th>NUM_TECH</th>\n",
       "      <th>VERSION_Y</th>\n",
       "      <th>VERSION_M</th>\n",
       "    </tr>\n",
       "  </thead>\n",
       "  <tbody>\n",
       "    <tr>\n",
       "      <th>0</th>\n",
       "      <td>201701</td>\n",
       "      <td>940091.558</td>\n",
       "      <td>-11215426.0</td>\n",
       "      <td>1</td>\n",
       "      <td>2017</td>\n",
       "      <td>1</td>\n",
       "    </tr>\n",
       "    <tr>\n",
       "      <th>2</th>\n",
       "      <td>201701</td>\n",
       "      <td>22830.702</td>\n",
       "      <td>-242300.0</td>\n",
       "      <td>2</td>\n",
       "      <td>2017</td>\n",
       "      <td>1</td>\n",
       "    </tr>\n",
       "    <tr>\n",
       "      <th>4</th>\n",
       "      <td>201701</td>\n",
       "      <td>11909.436</td>\n",
       "      <td>-105460.0</td>\n",
       "      <td>2</td>\n",
       "      <td>2017</td>\n",
       "      <td>1</td>\n",
       "    </tr>\n",
       "    <tr>\n",
       "      <th>7</th>\n",
       "      <td>201701</td>\n",
       "      <td>84359.878</td>\n",
       "      <td>-4035043.0</td>\n",
       "      <td>5</td>\n",
       "      <td>2017</td>\n",
       "      <td>1</td>\n",
       "    </tr>\n",
       "    <tr>\n",
       "      <th>8</th>\n",
       "      <td>201701</td>\n",
       "      <td>109060.598</td>\n",
       "      <td>-2625416.0</td>\n",
       "      <td>5</td>\n",
       "      <td>2017</td>\n",
       "      <td>1</td>\n",
       "    </tr>\n",
       "  </tbody>\n",
       "</table>\n",
       "</div>"
      ],
      "text/plain": [
       "   VERSION   POWER_MWH  INTEGRAL_COSTS  NUM_TECH  VERSION_Y  VERSION_M\n",
       "0   201701  940091.558     -11215426.0         1       2017          1\n",
       "2   201701   22830.702       -242300.0         2       2017          1\n",
       "4   201701   11909.436       -105460.0         2       2017          1\n",
       "7   201701   84359.878      -4035043.0         5       2017          1\n",
       "8   201701  109060.598      -2625416.0         5       2017          1"
      ]
     },
     "execution_count": 77,
     "metadata": {},
     "output_type": "execute_result"
    }
   ],
   "source": [
    "df_modelize = pd.read_csv(Path.cwd() / 'Outputs' / 'DF_MODELIZE.csv', sep = ';', header = 0 , encoding = \"ISO-8859-1\",decimal=',')\n",
    "df_modelize = df_modelize.fillna(0)\n",
    "\n",
    "df_modelize['INTEGRAL_COSTS']  = \\\n",
    "df_modelize['AMONIACO'] + \\\n",
    "df_modelize['ATR'] + \\\n",
    "df_modelize['BONO_SOCIAL_PEGO'] + \\\n",
    "df_modelize['CALIZAS'] + \\\n",
    "df_modelize['CANON HID'] + \\\n",
    "df_modelize['CANON_CONCESION'] + \\\n",
    "df_modelize['CANON_HID_CATALUÃÂA'] + \\\n",
    "df_modelize['CANON_NC_CATALUÃÂA'] + \\\n",
    "df_modelize['CANON_NC_EST'] + \\\n",
    "df_modelize['CENTIMO_VERDE'] + \\\n",
    "df_modelize['COSTE_COMBUSTIBLE'] + \\\n",
    "df_modelize['IMPUESTO ELECT'] + \\\n",
    "df_modelize['LUBRICANTES'] + \\\n",
    "df_modelize['OTROS'] + \\\n",
    "df_modelize['PEAJE GEN'] +  \\\n",
    "df_modelize['RELIQ_CANON_NC_CATALUÃÂA'] +  \\\n",
    "df_modelize['SERV_GEST_RES'] + \\\n",
    "df_modelize['TASAS_MEDIOAMB'] + \\\n",
    "df_modelize['TASA_ARAGON'] \n",
    "\n",
    "\n",
    "\n",
    "df_modelize2 = df_modelize[['VERSION','ID_TECNOLOGIA','POWER_MWH','INTEGRAL_COSTS']]\n",
    "df_tech= df_modelize2[['ID_TECNOLOGIA']].drop_duplicates()\n",
    "df_tech['NUM_TECH']= [1,2,3,4,5,6,7,8]\n",
    "df_tech.reset_index\n",
    "df_modelize2 = pd.merge(df_modelize2, df_tech, on=['ID_TECNOLOGIA'], how='left')\n",
    "df_modelize2 = df_modelize2[['VERSION','POWER_MWH','INTEGRAL_COSTS','NUM_TECH']]\n",
    "\n",
    "\n",
    "df_modelize2= df_modelize2[(np.abs(stats.zscore(df_modelize2)) < 2).all(axis=1)].reset_index()\n",
    "df_modelize2 = df_modelize2[['VERSION','POWER_MWH','INTEGRAL_COSTS','NUM_TECH']]\n",
    "df_modelize2 = df_modelize2[(df_modelize2['POWER_MWH']>0)]\n",
    "df_modelize2 = df_modelize2[(df_modelize2['INTEGRAL_COSTS']<0)]\n",
    "df_modelize2 = df_modelize2[df_modelize2['NUM_TECH'] != 3]\n",
    "df_modelize2 = df_modelize2[df_modelize2['NUM_TECH'] != 4]\n",
    "df_modelize2['VERSION_Y'] = df_modelize2['VERSION'].astype(str).str[:-2].astype(np.int64)\n",
    "df_modelize2['VERSION_M'] = df_modelize2['VERSION'].astype(str).str[4:].astype(np.int64)\n",
    "df_modelize2.head(5)"
   ]
  },
  {
   "cell_type": "code",
   "execution_count": 78,
   "metadata": {},
   "outputs": [
    {
     "data": {
      "text/plain": [
       "array([[-0.99004856, -0.65686358, -2.35460153, -1.4715309 , -0.88494776,\n",
       "        -1.56640466],\n",
       "       [-0.99004856, -0.98820305,  1.09288599, -1.05190359, -0.88494776,\n",
       "        -1.56640466],\n",
       "       [-0.99004856, -0.99214811,  1.13587776, -1.05190359, -0.88494776,\n",
       "        -1.56640466],\n",
       "       ...,\n",
       "       [ 1.23560471, -0.94712972,  1.0091802 , -1.05190359,  1.13001021,\n",
       "         1.59064491],\n",
       "       [ 1.23560471, -0.99110736,  1.15648736,  1.04623295,  1.13001021,\n",
       "         1.59064491],\n",
       "       [ 1.23560471,  3.18869986, -0.42607189, -1.4715309 ,  1.13001021,\n",
       "         1.59064491]])"
      ]
     },
     "execution_count": 78,
     "metadata": {},
     "output_type": "execute_result"
    }
   ],
   "source": [
    "from sklearn.preprocessing import StandardScaler\n",
    "colnames = df_modelize2.columns\n",
    "scaler = StandardScaler()\n",
    "df_Scaled = scaler.fit_transform(df_modelize2.values)\n",
    "df_Scaled\n"
   ]
  },
  {
   "cell_type": "code",
   "execution_count": 79,
   "metadata": {},
   "outputs": [
    {
     "data": {
      "text/html": [
       "<div>\n",
       "<style scoped>\n",
       "    .dataframe tbody tr th:only-of-type {\n",
       "        vertical-align: middle;\n",
       "    }\n",
       "\n",
       "    .dataframe tbody tr th {\n",
       "        vertical-align: top;\n",
       "    }\n",
       "\n",
       "    .dataframe thead th {\n",
       "        text-align: right;\n",
       "    }\n",
       "</style>\n",
       "<table border=\"1\" class=\"dataframe\">\n",
       "  <thead>\n",
       "    <tr style=\"text-align: right;\">\n",
       "      <th></th>\n",
       "      <th>VERSION</th>\n",
       "      <th>POWER_MWH</th>\n",
       "      <th>INTEGRAL_COSTS</th>\n",
       "      <th>NUM_TECH</th>\n",
       "      <th>VERSION_Y</th>\n",
       "      <th>VERSION_M</th>\n",
       "    </tr>\n",
       "  </thead>\n",
       "  <tbody>\n",
       "    <tr>\n",
       "      <th>0</th>\n",
       "      <td>201701.0</td>\n",
       "      <td>940091.558</td>\n",
       "      <td>-11215426.0</td>\n",
       "      <td>1.0</td>\n",
       "      <td>2017.0</td>\n",
       "      <td>1.0</td>\n",
       "    </tr>\n",
       "    <tr>\n",
       "      <th>1</th>\n",
       "      <td>201701.0</td>\n",
       "      <td>22830.702</td>\n",
       "      <td>-242300.0</td>\n",
       "      <td>2.0</td>\n",
       "      <td>2017.0</td>\n",
       "      <td>1.0</td>\n",
       "    </tr>\n",
       "    <tr>\n",
       "      <th>2</th>\n",
       "      <td>201701.0</td>\n",
       "      <td>11909.436</td>\n",
       "      <td>-105460.0</td>\n",
       "      <td>2.0</td>\n",
       "      <td>2017.0</td>\n",
       "      <td>1.0</td>\n",
       "    </tr>\n",
       "    <tr>\n",
       "      <th>3</th>\n",
       "      <td>201701.0</td>\n",
       "      <td>84359.878</td>\n",
       "      <td>-4035043.0</td>\n",
       "      <td>5.0</td>\n",
       "      <td>2017.0</td>\n",
       "      <td>1.0</td>\n",
       "    </tr>\n",
       "    <tr>\n",
       "      <th>4</th>\n",
       "      <td>201701.0</td>\n",
       "      <td>109060.598</td>\n",
       "      <td>-2625416.0</td>\n",
       "      <td>5.0</td>\n",
       "      <td>2017.0</td>\n",
       "      <td>1.0</td>\n",
       "    </tr>\n",
       "  </tbody>\n",
       "</table>\n",
       "</div>"
      ],
      "text/plain": [
       "    VERSION   POWER_MWH  INTEGRAL_COSTS  NUM_TECH  VERSION_Y  VERSION_M\n",
       "0  201701.0  940091.558     -11215426.0       1.0     2017.0        1.0\n",
       "1  201701.0   22830.702       -242300.0       2.0     2017.0        1.0\n",
       "2  201701.0   11909.436       -105460.0       2.0     2017.0        1.0\n",
       "3  201701.0   84359.878      -4035043.0       5.0     2017.0        1.0\n",
       "4  201701.0  109060.598      -2625416.0       5.0     2017.0        1.0"
      ]
     },
     "execution_count": 79,
     "metadata": {},
     "output_type": "execute_result"
    }
   ],
   "source": [
    "# Code for inversing the transformation once the predictor is used\n",
    "df4 = scaler.inverse_transform(df_Scaled)\n",
    "df4 = pd.DataFrame(df4)\n",
    "df4.columns = colnames\n",
    "df4.head(5)"
   ]
  },
  {
   "cell_type": "code",
   "execution_count": 80,
   "metadata": {},
   "outputs": [
    {
     "data": {
      "text/html": [
       "<div>\n",
       "<style scoped>\n",
       "    .dataframe tbody tr th:only-of-type {\n",
       "        vertical-align: middle;\n",
       "    }\n",
       "\n",
       "    .dataframe tbody tr th {\n",
       "        vertical-align: top;\n",
       "    }\n",
       "\n",
       "    .dataframe thead th {\n",
       "        text-align: right;\n",
       "    }\n",
       "</style>\n",
       "<table border=\"1\" class=\"dataframe\">\n",
       "  <thead>\n",
       "    <tr style=\"text-align: right;\">\n",
       "      <th></th>\n",
       "      <th>VERSION</th>\n",
       "      <th>POWER_MWH</th>\n",
       "      <th>INTEGRAL_COSTS</th>\n",
       "      <th>NUM_TECH</th>\n",
       "      <th>VERSION_Y</th>\n",
       "      <th>VERSION_M</th>\n",
       "    </tr>\n",
       "  </thead>\n",
       "  <tbody>\n",
       "    <tr>\n",
       "      <th>0</th>\n",
       "      <td>-0.990049</td>\n",
       "      <td>-0.656864</td>\n",
       "      <td>-2.354602</td>\n",
       "      <td>-1.471531</td>\n",
       "      <td>-0.884948</td>\n",
       "      <td>-1.566405</td>\n",
       "    </tr>\n",
       "    <tr>\n",
       "      <th>1</th>\n",
       "      <td>-0.990049</td>\n",
       "      <td>-0.988203</td>\n",
       "      <td>1.092886</td>\n",
       "      <td>-1.051904</td>\n",
       "      <td>-0.884948</td>\n",
       "      <td>-1.566405</td>\n",
       "    </tr>\n",
       "    <tr>\n",
       "      <th>2</th>\n",
       "      <td>-0.990049</td>\n",
       "      <td>-0.992148</td>\n",
       "      <td>1.135878</td>\n",
       "      <td>-1.051904</td>\n",
       "      <td>-0.884948</td>\n",
       "      <td>-1.566405</td>\n",
       "    </tr>\n",
       "    <tr>\n",
       "      <th>3</th>\n",
       "      <td>-0.990049</td>\n",
       "      <td>-0.965977</td>\n",
       "      <td>-0.098701</td>\n",
       "      <td>0.206978</td>\n",
       "      <td>-0.884948</td>\n",
       "      <td>-1.566405</td>\n",
       "    </tr>\n",
       "    <tr>\n",
       "      <th>4</th>\n",
       "      <td>-0.990049</td>\n",
       "      <td>-0.957054</td>\n",
       "      <td>0.344169</td>\n",
       "      <td>0.206978</td>\n",
       "      <td>-0.884948</td>\n",
       "      <td>-1.566405</td>\n",
       "    </tr>\n",
       "  </tbody>\n",
       "</table>\n",
       "</div>"
      ],
      "text/plain": [
       "    VERSION  POWER_MWH  INTEGRAL_COSTS  NUM_TECH  VERSION_Y  VERSION_M\n",
       "0 -0.990049  -0.656864       -2.354602 -1.471531  -0.884948  -1.566405\n",
       "1 -0.990049  -0.988203        1.092886 -1.051904  -0.884948  -1.566405\n",
       "2 -0.990049  -0.992148        1.135878 -1.051904  -0.884948  -1.566405\n",
       "3 -0.990049  -0.965977       -0.098701  0.206978  -0.884948  -1.566405\n",
       "4 -0.990049  -0.957054        0.344169  0.206978  -0.884948  -1.566405"
      ]
     },
     "execution_count": 80,
     "metadata": {},
     "output_type": "execute_result"
    }
   ],
   "source": [
    "df_Scaled = pd.DataFrame(df_Scaled)\n",
    "df_Scaled.columns = colnames\n",
    "df_Scaled.head(5)"
   ]
  },
  {
   "cell_type": "markdown",
   "metadata": {},
   "source": [
    "# Model Aplication"
   ]
  },
  {
   "cell_type": "markdown",
   "metadata": {},
   "source": [
    "## Instances Creation"
   ]
  },
  {
   "cell_type": "code",
   "execution_count": 66,
   "metadata": {},
   "outputs": [],
   "source": [
    "# Import Library\n",
    "from sklearn.model_selection import train_test_split\n",
    "from sklearn.preprocessing import StandardScaler\n",
    "\n",
    "X = df_Scaled[['VERSION_M','VERSION_Y','NUM_TECH','POWER_MWH']]\n",
    "y = df_Scaled['INTEGRAL_COSTS']\n",
    "\n",
    "\n",
    "# Create Instance\n",
    "X_train, X_test, y_train, y_test = train_test_split(X,y, test_size=0.10 , random_state = 42)"
   ]
  },
  {
   "cell_type": "markdown",
   "metadata": {},
   "source": [
    "## XGBoost"
   ]
  },
  {
   "cell_type": "code",
   "execution_count": 67,
   "metadata": {},
   "outputs": [],
   "source": [
    "# Load the library\n",
    "import xgboost as XGB\n",
    "# Create an instance\n",
    "regXGB = XGB.XGBRegressor(n_estimators=100, \n",
    "                          learning_rate=0.1, \n",
    "                          gamma=0, \n",
    "                          subsample=0.7,\n",
    "                          colsample_bytree=1, \n",
    "                          max_depth=6)\n",
    "# Fit the data\n",
    "regXGB.fit(X_train,y_train)\n",
    "# Do predictions\n",
    "y_regXGB_pred = regXGB.predict(X_test)"
   ]
  },
  {
   "cell_type": "code",
   "execution_count": 68,
   "metadata": {},
   "outputs": [
    {
     "name": "stdout",
     "output_type": "stream",
     "text": [
      "0.22570712482289718\n"
     ]
    },
    {
     "data": {
      "image/png": "[encoded data removed]",
      "text/plain": [
       "<Figure size 432x288 with 1 Axes>"
      ]
     },
     "metadata": {
      "needs_background": "light"
     },
     "output_type": "display_data"
    }
   ],
   "source": [
    "from sklearn.metrics import mean_squared_error\n",
    "\n",
    "print(mean_squared_error(y_test,y_regXGB_pred))\n",
    "plt.hist(y_test-y_regXGB_pred,bins=50);"
   ]
  },
  {
   "cell_type": "markdown",
   "metadata": {},
   "source": [
    "## XGBoost with GridSearchCV [Final Model]"
   ]
  },
  {
   "cell_type": "code",
   "execution_count": 69,
   "metadata": {},
   "outputs": [],
   "source": [
    "# Load the library\n",
    "from sklearn.model_selection import GridSearchCV\n",
    "import xgboost as XGB"
   ]
  },
  {
   "cell_type": "code",
   "execution_count": 70,
   "metadata": {},
   "outputs": [
    {
     "name": "stdout",
     "output_type": "stream",
     "text": [
      "Fitting 5 folds for each of 84 candidates, totalling 420 fits\n"
     ]
    },
    {
     "name": "stderr",
     "output_type": "stream",
     "text": [
      "[Parallel(n_jobs=-1)]: Using backend LokyBackend with 4 concurrent workers.\n",
      "[Parallel(n_jobs=-1)]: Done  10 tasks      | elapsed:    5.0s\n",
      "[Parallel(n_jobs=-1)]: Done  24 tasks      | elapsed:   11.8s\n",
      "[Parallel(n_jobs=-1)]: Done  42 tasks      | elapsed:   21.5s\n",
      "[Parallel(n_jobs=-1)]: Done  64 tasks      | elapsed:   33.5s\n",
      "[Parallel(n_jobs=-1)]: Done  90 tasks      | elapsed:   46.7s\n",
      "[Parallel(n_jobs=-1)]: Done 120 tasks      | elapsed:  1.1min\n",
      "[Parallel(n_jobs=-1)]: Done 154 tasks      | elapsed:  1.6min\n",
      "[Parallel(n_jobs=-1)]: Done 192 tasks      | elapsed:  2.0min\n",
      "[Parallel(n_jobs=-1)]: Done 234 tasks      | elapsed:  2.5min\n",
      "[Parallel(n_jobs=-1)]: Done 280 tasks      | elapsed:  3.3min\n",
      "[Parallel(n_jobs=-1)]: Done 330 tasks      | elapsed:  3.9min\n",
      "[Parallel(n_jobs=-1)]: Done 384 tasks      | elapsed:  4.6min\n",
      "[Parallel(n_jobs=-1)]: Done 420 out of 420 | elapsed:  5.1min finished\n",
      "C:\\Users\\ES71531200G\\AppData\\Local\\Continuum\\anaconda3\\lib\\site-packages\\sklearn\\model_selection\\_search.py:841: DeprecationWarning: The default of the `iid` parameter will change from True to False in version 0.22 and will be removed in 0.24. This will change numeric results when test-set sizes are unequal.\n",
      "  DeprecationWarning)\n"
     ]
    },
    {
     "name": "stdout",
     "output_type": "stream",
     "text": [
      "{'colsample_bytree': 0.9, 'learning_rate': 0.05, 'max_depth': 5, 'n_estimators': 500, 'nthread': 4, 'silent': 1, 'subsample': 0.7}\n",
      "-0.21409590225508737\n"
     ]
    }
   ],
   "source": [
    "# Load the library\n",
    "from sklearn.model_selection import GridSearchCV\n",
    "from xgboost.sklearn import XGBRegressor\n",
    "# Create an instance\n",
    "        \n",
    "xgb1 = XGBRegressor()\n",
    "parameters = {'nthread':[4], \n",
    "              'learning_rate': [0.01, 0.05, 0.11], \n",
    "              'max_depth':np.arange(3,10),\n",
    "              'silent': [1],\n",
    "              'subsample': [0.7],\n",
    "              'colsample_bytree':[0.3,0.6,0.9,1],\n",
    "              'n_estimators': [500]}\n",
    "\n",
    "regXGBGS = GridSearchCV(xgb1,\n",
    "                        parameters,\n",
    "                        cv = 5,\n",
    "                        n_jobs = -1,\n",
    "                        scoring=\"neg_mean_squared_error\",\n",
    "                        verbose=9)\n",
    "\n",
    "# Fit the data\n",
    "regXGBGS.fit(X_train,y_train)\n",
    "\n",
    "\n",
    "print(regXGBGS.best_params_)\n",
    "print(regXGBGS.best_score_)\n",
    "\n",
    "regXGBGS = regXGBGS.best_estimator_\n",
    "\n",
    "# {'colsample_bytree': 0.9, 'learning_rate': 0.05, 'max_depth': 5, 'n_estimators': 500, 'nthread': 4, 'silent': 1, 'subsample': 0.7}\n",
    "# -0.21409590225508737\n"
   ]
  },
  {
   "cell_type": "code",
   "execution_count": 51,
   "metadata": {},
   "outputs": [
    {
     "name": "stdout",
     "output_type": "stream",
     "text": [
      "0.21451717444533325\n"
     ]
    },
    {
     "data": {
      "image/png": "[encoded data removed]",
      "text/plain": [
       "<Figure size 432x288 with 1 Axes>"
      ]
     },
     "metadata": {
      "needs_background": "light"
     },
     "output_type": "display_data"
    }
   ],
   "source": [
    "# Do predictions\n",
    "y_regXGBGS_pred = regXGBGS.predict(X_test)\n",
    "print(mean_squared_error(y_test,y_regXGBGS_pred))\n",
    "plt.hist(y_test-y_regXGBGS_pred,bins=50);"
   ]
  },
  {
   "cell_type": "code",
   "execution_count": 52,
   "metadata": {},
   "outputs": [
    {
     "data": {
      "text/plain": [
       "array([ 0.58319783,  0.9088425 ,  0.40034974,  0.5623625 , -1.4346454 ,\n",
       "        1.1585035 , -0.6654153 , -1.719976  ,  0.2071653 ,  1.0126373 ,\n",
       "        0.47963387, -1.5927951 ,  1.1110839 , -2.0057952 , -0.20291454,\n",
       "        1.135329  ,  0.7613572 , -0.6662538 ,  1.200285  , -1.1626049 ,\n",
       "        1.1361841 ,  0.21319634,  0.5870383 ,  1.1364346 , -0.5192082 ,\n",
       "        1.0462434 ,  0.6521633 ,  0.18164244,  0.72088933, -1.8724213 ,\n",
       "       -1.4213632 ,  0.9555315 ,  0.06509185,  0.54526824,  0.89498186,\n",
       "       -1.5587127 , -0.00709635,  0.60836434, -0.90357137, -1.5636675 ,\n",
       "        0.54034096,  0.42548656,  1.1307993 , -1.559027  , -1.3823044 ,\n",
       "        0.6681926 , -0.460046  ,  0.8319716 , -0.1508972 ,  0.59367883,\n",
       "       -0.5131465 , -0.0211063 ,  0.23165205,  0.06763324,  0.9570463 ,\n",
       "       -0.02683926,  0.544321  , -0.7915945 ,  0.3614751 , -0.66274786],\n",
       "      dtype=float32)"
      ]
     },
     "execution_count": 52,
     "metadata": {},
     "output_type": "execute_result"
    }
   ],
   "source": [
    "y_regXGB_pred"
   ]
  },
  {
   "cell_type": "code",
   "execution_count": 94,
   "metadata": {},
   "outputs": [
    {
     "ename": "ValueError",
     "evalue": "operands could not be broadcast together with shapes (60,) (6,) (60,) ",
     "output_type": "error",
     "traceback": [
      "\u001b[1;31m---------------------------------------------------------------------------\u001b[0m",
      "\u001b[1;31mValueError\u001b[0m                                Traceback (most recent call last)",
      "\u001b[1;32m<ipython-input-94-fcdad8def029>\u001b[0m in \u001b[0;36m<module>\u001b[1;34m\u001b[0m\n\u001b[1;32m----> 1\u001b[1;33m \u001b[0mdf4\u001b[0m \u001b[1;33m=\u001b[0m \u001b[0mscaler\u001b[0m\u001b[1;33m.\u001b[0m\u001b[0minverse_transform\u001b[0m\u001b[1;33m(\u001b[0m\u001b[0my_regXGB_pred\u001b[0m\u001b[1;33m)\u001b[0m\u001b[1;33m\u001b[0m\u001b[1;33m\u001b[0m\u001b[0m\n\u001b[0m\u001b[0;32m      2\u001b[0m \u001b[1;31m#df4 = pd.DataFrame(df4)\u001b[0m\u001b[1;33m\u001b[0m\u001b[1;33m\u001b[0m\u001b[1;33m\u001b[0m\u001b[0m\n\u001b[0;32m      3\u001b[0m \u001b[1;31m#df4.columns = colnames\u001b[0m\u001b[1;33m\u001b[0m\u001b[1;33m\u001b[0m\u001b[1;33m\u001b[0m\u001b[0m\n\u001b[0;32m      4\u001b[0m \u001b[1;31m#df4.head(5)\u001b[0m\u001b[1;33m\u001b[0m\u001b[1;33m\u001b[0m\u001b[1;33m\u001b[0m\u001b[0m\n",
      "\u001b[1;32m~\\AppData\\Local\\Continuum\\anaconda3\\lib\\site-packages\\sklearn\\preprocessing\\data.py\u001b[0m in \u001b[0;36minverse_transform\u001b[1;34m(self, X, copy)\u001b[0m\n\u001b[0;32m    821\u001b[0m                 \u001b[0mX\u001b[0m \u001b[1;33m=\u001b[0m \u001b[0mX\u001b[0m\u001b[1;33m.\u001b[0m\u001b[0mcopy\u001b[0m\u001b[1;33m(\u001b[0m\u001b[1;33m)\u001b[0m\u001b[1;33m\u001b[0m\u001b[1;33m\u001b[0m\u001b[0m\n\u001b[0;32m    822\u001b[0m             \u001b[1;32mif\u001b[0m \u001b[0mself\u001b[0m\u001b[1;33m.\u001b[0m\u001b[0mwith_std\u001b[0m\u001b[1;33m:\u001b[0m\u001b[1;33m\u001b[0m\u001b[1;33m\u001b[0m\u001b[0m\n\u001b[1;32m--> 823\u001b[1;33m                 \u001b[0mX\u001b[0m \u001b[1;33m*=\u001b[0m \u001b[0mself\u001b[0m\u001b[1;33m.\u001b[0m\u001b[0mscale_\u001b[0m\u001b[1;33m\u001b[0m\u001b[1;33m\u001b[0m\u001b[0m\n\u001b[0m\u001b[0;32m    824\u001b[0m             \u001b[1;32mif\u001b[0m \u001b[0mself\u001b[0m\u001b[1;33m.\u001b[0m\u001b[0mwith_mean\u001b[0m\u001b[1;33m:\u001b[0m\u001b[1;33m\u001b[0m\u001b[1;33m\u001b[0m\u001b[0m\n\u001b[0;32m    825\u001b[0m                 \u001b[0mX\u001b[0m \u001b[1;33m+=\u001b[0m \u001b[0mself\u001b[0m\u001b[1;33m.\u001b[0m\u001b[0mmean_\u001b[0m\u001b[1;33m\u001b[0m\u001b[1;33m\u001b[0m\u001b[0m\n",
      "\u001b[1;31mValueError\u001b[0m: operands could not be broadcast together with shapes (60,) (6,) (60,) "
     ]
    }
   ],
   "source": [
    "df4 = scaler.inverse_transform(y_regXGB_pred)\n",
    "#df4 = pd.DataFrame(df4)\n",
    "#df4.columns = colnames\n",
    "#df4.head(5)"
   ]
  },
  {
   "cell_type": "code",
   "execution_count": 96,
   "metadata": {},
   "outputs": [
    {
     "data": {
      "text/html": [
       "<div>\n",
       "<style scoped>\n",
       "    .dataframe tbody tr th:only-of-type {\n",
       "        vertical-align: middle;\n",
       "    }\n",
       "\n",
       "    .dataframe tbody tr th {\n",
       "        vertical-align: top;\n",
       "    }\n",
       "\n",
       "    .dataframe thead th {\n",
       "        text-align: right;\n",
       "    }\n",
       "</style>\n",
       "<table border=\"1\" class=\"dataframe\">\n",
       "  <thead>\n",
       "    <tr style=\"text-align: right;\">\n",
       "      <th></th>\n",
       "      <th>VERSION</th>\n",
       "      <th>POWER_MWH</th>\n",
       "      <th>INTEGRAL_COSTS</th>\n",
       "      <th>NUM_TECH</th>\n",
       "      <th>VERSION_Y</th>\n",
       "      <th>VERSION_M</th>\n",
       "    </tr>\n",
       "  </thead>\n",
       "  <tbody>\n",
       "    <tr>\n",
       "      <th>0</th>\n",
       "      <td>201701</td>\n",
       "      <td>940091.558</td>\n",
       "      <td>-11215426.0</td>\n",
       "      <td>1</td>\n",
       "      <td>2017</td>\n",
       "      <td>1</td>\n",
       "    </tr>\n",
       "    <tr>\n",
       "      <th>2</th>\n",
       "      <td>201701</td>\n",
       "      <td>22830.702</td>\n",
       "      <td>-242300.0</td>\n",
       "      <td>2</td>\n",
       "      <td>2017</td>\n",
       "      <td>1</td>\n",
       "    </tr>\n",
       "    <tr>\n",
       "      <th>4</th>\n",
       "      <td>201701</td>\n",
       "      <td>11909.436</td>\n",
       "      <td>-105460.0</td>\n",
       "      <td>2</td>\n",
       "      <td>2017</td>\n",
       "      <td>1</td>\n",
       "    </tr>\n",
       "    <tr>\n",
       "      <th>7</th>\n",
       "      <td>201701</td>\n",
       "      <td>84359.878</td>\n",
       "      <td>-4035043.0</td>\n",
       "      <td>5</td>\n",
       "      <td>2017</td>\n",
       "      <td>1</td>\n",
       "    </tr>\n",
       "    <tr>\n",
       "      <th>8</th>\n",
       "      <td>201701</td>\n",
       "      <td>109060.598</td>\n",
       "      <td>-2625416.0</td>\n",
       "      <td>5</td>\n",
       "      <td>2017</td>\n",
       "      <td>1</td>\n",
       "    </tr>\n",
       "  </tbody>\n",
       "</table>\n",
       "</div>"
      ],
      "text/plain": [
       "   VERSION   POWER_MWH  INTEGRAL_COSTS  NUM_TECH  VERSION_Y  VERSION_M\n",
       "0   201701  940091.558     -11215426.0         1       2017          1\n",
       "2   201701   22830.702       -242300.0         2       2017          1\n",
       "4   201701   11909.436       -105460.0         2       2017          1\n",
       "7   201701   84359.878      -4035043.0         5       2017          1\n",
       "8   201701  109060.598      -2625416.0         5       2017          1"
      ]
     },
     "execution_count": 96,
     "metadata": {},
     "output_type": "execute_result"
    }
   ],
   "source": [
    "df_test = df_modelize2.copy()\n",
    "df_test.head()"
   ]
  },
  {
   "cell_type": "code",
   "execution_count": 102,
   "metadata": {},
   "outputs": [
    {
     "ename": "SyntaxError",
     "evalue": "invalid syntax (<ipython-input-102-9bf531f34ebc>, line 4)",
     "output_type": "error",
     "traceback": [
      "\u001b[1;36m  File \u001b[1;32m\"<ipython-input-102-9bf531f34ebc>\"\u001b[1;36m, line \u001b[1;32m4\u001b[0m\n\u001b[1;33m    else pd.notnull(elem):\u001b[0m\n\u001b[1;37m          ^\u001b[0m\n\u001b[1;31mSyntaxError\u001b[0m\u001b[1;31m:\u001b[0m invalid syntax\n"
     ]
    }
   ],
   "source": [
    "for index, elem in enumerate(df_test['INTEGRAL_COSTS']):\n",
    "    if pd.isnull(elem):\n",
    "        df_test.at[index,'INTEGRAL_COSTS']=df_test.at[index-1,'INTEGRAL_COSTS']"
   ]
  },
  {
   "cell_type": "code",
   "execution_count": 100,
   "metadata": {},
   "outputs": [
    {
     "data": {
      "text/html": [
       "<div>\n",
       "<style scoped>\n",
       "    .dataframe tbody tr th:only-of-type {\n",
       "        vertical-align: middle;\n",
       "    }\n",
       "\n",
       "    .dataframe tbody tr th {\n",
       "        vertical-align: top;\n",
       "    }\n",
       "\n",
       "    .dataframe thead th {\n",
       "        text-align: right;\n",
       "    }\n",
       "</style>\n",
       "<table border=\"1\" class=\"dataframe\">\n",
       "  <thead>\n",
       "    <tr style=\"text-align: right;\">\n",
       "      <th></th>\n",
       "      <th>VERSION</th>\n",
       "      <th>POWER_MWH</th>\n",
       "      <th>INTEGRAL_COSTS</th>\n",
       "      <th>NUM_TECH</th>\n",
       "      <th>VERSION_Y</th>\n",
       "      <th>VERSION_M</th>\n",
       "    </tr>\n",
       "  </thead>\n",
       "  <tbody>\n",
       "    <tr>\n",
       "      <th>0</th>\n",
       "      <td>201701</td>\n",
       "      <td>940091.558</td>\n",
       "      <td>-11215426.0</td>\n",
       "      <td>1</td>\n",
       "      <td>2017</td>\n",
       "      <td>1</td>\n",
       "    </tr>\n",
       "    <tr>\n",
       "      <th>2</th>\n",
       "      <td>201701</td>\n",
       "      <td>22830.702</td>\n",
       "      <td>-242300.0</td>\n",
       "      <td>2</td>\n",
       "      <td>2017</td>\n",
       "      <td>1</td>\n",
       "    </tr>\n",
       "    <tr>\n",
       "      <th>4</th>\n",
       "      <td>201701</td>\n",
       "      <td>11909.436</td>\n",
       "      <td>-105460.0</td>\n",
       "      <td>2</td>\n",
       "      <td>2017</td>\n",
       "      <td>1</td>\n",
       "    </tr>\n",
       "    <tr>\n",
       "      <th>7</th>\n",
       "      <td>201701</td>\n",
       "      <td>84359.878</td>\n",
       "      <td>-4035043.0</td>\n",
       "      <td>5</td>\n",
       "      <td>2017</td>\n",
       "      <td>1</td>\n",
       "    </tr>\n",
       "    <tr>\n",
       "      <th>8</th>\n",
       "      <td>201701</td>\n",
       "      <td>109060.598</td>\n",
       "      <td>-2625416.0</td>\n",
       "      <td>5</td>\n",
       "      <td>2017</td>\n",
       "      <td>1</td>\n",
       "    </tr>\n",
       "  </tbody>\n",
       "</table>\n",
       "</div>"
      ],
      "text/plain": [
       "   VERSION   POWER_MWH  INTEGRAL_COSTS  NUM_TECH  VERSION_Y  VERSION_M\n",
       "0   201701  940091.558     -11215426.0         1       2017          1\n",
       "2   201701   22830.702       -242300.0         2       2017          1\n",
       "4   201701   11909.436       -105460.0         2       2017          1\n",
       "7   201701   84359.878      -4035043.0         5       2017          1\n",
       "8   201701  109060.598      -2625416.0         5       2017          1"
      ]
     },
     "execution_count": 100,
     "metadata": {},
     "output_type": "execute_result"
    }
   ],
   "source": [
    "df_test.head()"
   ]
  },
  {
   "cell_type": "code",
   "execution_count": null,
   "metadata": {},
   "outputs": [],
   "source": []
  },
  {
   "cell_type": "code",
   "execution_count": null,
   "metadata": {},
   "outputs": [],
   "source": []
  },
  {
   "cell_type": "code",
   "execution_count": null,
   "metadata": {},
   "outputs": [],
   "source": []
  },
  {
   "cell_type": "code",
   "execution_count": null,
   "metadata": {},
   "outputs": [],
   "source": []
  }
 ],
 "metadata": {
  "kernelspec": {
   "display_name": "Python 3",
   "language": "python",
   "name": "python3"
  },
  "language_info": {
   "codemirror_mode": {
    "name": "ipython",
    "version": 3
   },
   "file_extension": ".py",
   "mimetype": "text/x-python",
   "name": "python",
   "nbconvert_exporter": "python",
   "pygments_lexer": "ipython3",
   "version": "3.7.3"
  }
 },
 "nbformat": 4,
 "nbformat_minor": 2
}
