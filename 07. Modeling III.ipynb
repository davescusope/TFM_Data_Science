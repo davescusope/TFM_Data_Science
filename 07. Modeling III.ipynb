{
 "cells": [
  {
   "cell_type": "markdown",
   "metadata": {},
   "source": [
    "# Python TFM Section"
   ]
  },
  {
   "cell_type": "markdown",
   "metadata": {},
   "source": [
    "## Modelling III\n",
    "\n",
    "1. Develope and improve the most sucessful model"
   ]
  },
  {
   "cell_type": "code",
   "execution_count": 548,
   "metadata": {},
   "outputs": [
    {
     "name": "stdout",
     "output_type": "stream",
     "text": [
      "Populating the interactive namespace from numpy and matplotlib\n"
     ]
    }
   ],
   "source": [
    "from pathlib import Path\n",
    "from scipy import stats\n",
    "\n",
    "import sklearn\n",
    "import pandas as pd\n",
    "import numpy as np\n",
    "import matplotlib.pyplot as plt\n",
    "\n",
    "%matplotlib inline\n",
    "%pylab inline"
   ]
  },
  {
   "cell_type": "code",
   "execution_count": 549,
   "metadata": {},
   "outputs": [
    {
     "name": "stderr",
     "output_type": "stream",
     "text": [
      "C:\\Users\\ES71531200G\\AppData\\Local\\Continuum\\anaconda3\\lib\\site-packages\\ipykernel_launcher.py:28: SettingWithCopyWarning: \n",
      "A value is trying to be set on a copy of a slice from a DataFrame.\n",
      "Try using .loc[row_indexer,col_indexer] = value instead\n",
      "\n",
      "See the caveats in the documentation: http://pandas.pydata.org/pandas-docs/stable/indexing.html#indexing-view-versus-copy\n",
      "C:\\Users\\ES71531200G\\AppData\\Local\\Continuum\\anaconda3\\lib\\site-packages\\ipykernel_launcher.py:29: SettingWithCopyWarning: \n",
      "A value is trying to be set on a copy of a slice from a DataFrame.\n",
      "Try using .loc[row_indexer,col_indexer] = value instead\n",
      "\n",
      "See the caveats in the documentation: http://pandas.pydata.org/pandas-docs/stable/indexing.html#indexing-view-versus-copy\n"
     ]
    },
    {
     "data": {
      "text/html": [
       "<div>\n",
       "<style scoped>\n",
       "    .dataframe tbody tr th:only-of-type {\n",
       "        vertical-align: middle;\n",
       "    }\n",
       "\n",
       "    .dataframe tbody tr th {\n",
       "        vertical-align: top;\n",
       "    }\n",
       "\n",
       "    .dataframe thead th {\n",
       "        text-align: right;\n",
       "    }\n",
       "</style>\n",
       "<table border=\"1\" class=\"dataframe\">\n",
       "  <thead>\n",
       "    <tr style=\"text-align: right;\">\n",
       "      <th></th>\n",
       "      <th>POWER_MWH</th>\n",
       "      <th>t0</th>\n",
       "      <th>VERSION_Y</th>\n",
       "      <th>VERSION_M</th>\n",
       "      <th>VERSION2</th>\n",
       "      <th>BP</th>\n",
       "      <th>BX</th>\n",
       "      <th>CI</th>\n",
       "      <th>EB</th>\n",
       "      <th>GN</th>\n",
       "      <th>HN</th>\n",
       "      <th>LN</th>\n",
       "      <th>NC</th>\n",
       "    </tr>\n",
       "  </thead>\n",
       "  <tbody>\n",
       "    <tr>\n",
       "      <th>462</th>\n",
       "      <td>5.555716e+06</td>\n",
       "      <td>-5536275.0</td>\n",
       "      <td>2017</td>\n",
       "      <td>11</td>\n",
       "      <td>11</td>\n",
       "      <td>0</td>\n",
       "      <td>0</td>\n",
       "      <td>0</td>\n",
       "      <td>0</td>\n",
       "      <td>0</td>\n",
       "      <td>0</td>\n",
       "      <td>0</td>\n",
       "      <td>1</td>\n",
       "    </tr>\n",
       "    <tr>\n",
       "      <th>460</th>\n",
       "      <td>7.952508e+05</td>\n",
       "      <td>-166521.0</td>\n",
       "      <td>2017</td>\n",
       "      <td>11</td>\n",
       "      <td>11</td>\n",
       "      <td>0</td>\n",
       "      <td>0</td>\n",
       "      <td>0</td>\n",
       "      <td>0</td>\n",
       "      <td>0</td>\n",
       "      <td>1</td>\n",
       "      <td>0</td>\n",
       "      <td>0</td>\n",
       "    </tr>\n",
       "    <tr>\n",
       "      <th>228</th>\n",
       "      <td>-1.000674e+05</td>\n",
       "      <td>0.0</td>\n",
       "      <td>2017</td>\n",
       "      <td>6</td>\n",
       "      <td>6</td>\n",
       "      <td>1</td>\n",
       "      <td>0</td>\n",
       "      <td>0</td>\n",
       "      <td>0</td>\n",
       "      <td>0</td>\n",
       "      <td>0</td>\n",
       "      <td>0</td>\n",
       "      <td>0</td>\n",
       "    </tr>\n",
       "    <tr>\n",
       "      <th>259</th>\n",
       "      <td>9.593814e+06</td>\n",
       "      <td>-13010535.0</td>\n",
       "      <td>2017</td>\n",
       "      <td>7</td>\n",
       "      <td>7</td>\n",
       "      <td>0</td>\n",
       "      <td>0</td>\n",
       "      <td>0</td>\n",
       "      <td>0</td>\n",
       "      <td>0</td>\n",
       "      <td>0</td>\n",
       "      <td>0</td>\n",
       "      <td>1</td>\n",
       "    </tr>\n",
       "    <tr>\n",
       "      <th>277</th>\n",
       "      <td>2.889416e+06</td>\n",
       "      <td>-3919270.0</td>\n",
       "      <td>2017</td>\n",
       "      <td>7</td>\n",
       "      <td>7</td>\n",
       "      <td>0</td>\n",
       "      <td>0</td>\n",
       "      <td>1</td>\n",
       "      <td>0</td>\n",
       "      <td>0</td>\n",
       "      <td>0</td>\n",
       "      <td>0</td>\n",
       "      <td>0</td>\n",
       "    </tr>\n",
       "    <tr>\n",
       "      <th>508</th>\n",
       "      <td>8.561816e+06</td>\n",
       "      <td>-15202992.0</td>\n",
       "      <td>2018</td>\n",
       "      <td>1</td>\n",
       "      <td>13</td>\n",
       "      <td>0</td>\n",
       "      <td>0</td>\n",
       "      <td>1</td>\n",
       "      <td>0</td>\n",
       "      <td>0</td>\n",
       "      <td>0</td>\n",
       "      <td>0</td>\n",
       "      <td>0</td>\n",
       "    </tr>\n",
       "    <tr>\n",
       "      <th>334</th>\n",
       "      <td>-2.894874e+04</td>\n",
       "      <td>-2423418.0</td>\n",
       "      <td>2017</td>\n",
       "      <td>8</td>\n",
       "      <td>8</td>\n",
       "      <td>0</td>\n",
       "      <td>0</td>\n",
       "      <td>0</td>\n",
       "      <td>0</td>\n",
       "      <td>0</td>\n",
       "      <td>1</td>\n",
       "      <td>0</td>\n",
       "      <td>0</td>\n",
       "    </tr>\n",
       "    <tr>\n",
       "      <th>62</th>\n",
       "      <td>9.952049e+03</td>\n",
       "      <td>-1356121.0</td>\n",
       "      <td>2017</td>\n",
       "      <td>2</td>\n",
       "      <td>2</td>\n",
       "      <td>0</td>\n",
       "      <td>0</td>\n",
       "      <td>0</td>\n",
       "      <td>0</td>\n",
       "      <td>1</td>\n",
       "      <td>0</td>\n",
       "      <td>0</td>\n",
       "      <td>0</td>\n",
       "    </tr>\n",
       "    <tr>\n",
       "      <th>512</th>\n",
       "      <td>3.068144e+06</td>\n",
       "      <td>-5166968.0</td>\n",
       "      <td>2018</td>\n",
       "      <td>1</td>\n",
       "      <td>13</td>\n",
       "      <td>0</td>\n",
       "      <td>0</td>\n",
       "      <td>0</td>\n",
       "      <td>0</td>\n",
       "      <td>1</td>\n",
       "      <td>0</td>\n",
       "      <td>0</td>\n",
       "      <td>0</td>\n",
       "    </tr>\n",
       "    <tr>\n",
       "      <th>680</th>\n",
       "      <td>1.830970e+07</td>\n",
       "      <td>-11498793.0</td>\n",
       "      <td>2018</td>\n",
       "      <td>6</td>\n",
       "      <td>18</td>\n",
       "      <td>0</td>\n",
       "      <td>0</td>\n",
       "      <td>0</td>\n",
       "      <td>0</td>\n",
       "      <td>0</td>\n",
       "      <td>0</td>\n",
       "      <td>0</td>\n",
       "      <td>1</td>\n",
       "    </tr>\n",
       "  </tbody>\n",
       "</table>\n",
       "</div>"
      ],
      "text/plain": [
       "        POWER_MWH          t0  VERSION_Y  VERSION_M  VERSION2  BP  BX  CI  EB  \\\n",
       "462  5.555716e+06  -5536275.0       2017         11        11   0   0   0   0   \n",
       "460  7.952508e+05   -166521.0       2017         11        11   0   0   0   0   \n",
       "228 -1.000674e+05         0.0       2017          6         6   1   0   0   0   \n",
       "259  9.593814e+06 -13010535.0       2017          7         7   0   0   0   0   \n",
       "277  2.889416e+06  -3919270.0       2017          7         7   0   0   1   0   \n",
       "508  8.561816e+06 -15202992.0       2018          1        13   0   0   1   0   \n",
       "334 -2.894874e+04  -2423418.0       2017          8         8   0   0   0   0   \n",
       "62   9.952049e+03  -1356121.0       2017          2         2   0   0   0   0   \n",
       "512  3.068144e+06  -5166968.0       2018          1        13   0   0   0   0   \n",
       "680  1.830970e+07 -11498793.0       2018          6        18   0   0   0   0   \n",
       "\n",
       "     GN  HN  LN  NC  \n",
       "462   0   0   0   1  \n",
       "460   0   1   0   0  \n",
       "228   0   0   0   0  \n",
       "259   0   0   0   1  \n",
       "277   0   0   0   0  \n",
       "508   0   0   0   0  \n",
       "334   0   1   0   0  \n",
       "62    1   0   0   0  \n",
       "512   1   0   0   0  \n",
       "680   0   0   0   1  "
      ]
     },
     "execution_count": 549,
     "metadata": {},
     "output_type": "execute_result"
    }
   ],
   "source": [
    "df_modelize = pd.read_csv(Path.cwd() / 'Outputs' / 'DF_MODELIZE.csv', sep = ';', header = 0 , encoding = \"ISO-8859-1\",decimal=',')\n",
    "df_modelize = df_modelize.fillna(0)\n",
    "\n",
    "df_modelize['INTEGRAL_COSTS']  = \\\n",
    "df_modelize['AMONIACO'] + \\\n",
    "df_modelize['ATR'] + \\\n",
    "df_modelize['BONO_SOCIAL_PEGO'] + \\\n",
    "df_modelize['CALIZAS'] + \\\n",
    "df_modelize['CANON HID'] + \\\n",
    "df_modelize['CANON_CONCESION'] + \\\n",
    "df_modelize['CANON_HID_CATALUÃÂA'] + \\\n",
    "df_modelize['CANON_NC_CATALUÃÂA'] + \\\n",
    "df_modelize['CANON_NC_EST'] + \\\n",
    "df_modelize['CENTIMO_VERDE'] + \\\n",
    "df_modelize['COSTE_COMBUSTIBLE'] + \\\n",
    "df_modelize['IMPUESTO ELECT'] + \\\n",
    "df_modelize['LUBRICANTES'] + \\\n",
    "df_modelize['OTROS'] + \\\n",
    "df_modelize['PEAJE GEN'] +  \\\n",
    "df_modelize['RELIQ_CANON_NC_CATALUÃÂA'] +  \\\n",
    "df_modelize['SERV_GEST_RES'] + \\\n",
    "df_modelize['TASAS_MEDIOAMB'] + \\\n",
    "df_modelize['TASA_ARAGON'] \n",
    "\n",
    "\n",
    "\n",
    "df_modelize2 = df_modelize[['VERSION','ID_TECNOLOGIA','POWER_MWH','INTEGRAL_COSTS']]\n",
    "df_modelize2['VERSION_Y'] = df_modelize2['VERSION'].astype(str).str[:-2].astype(np.int64)\n",
    "df_modelize2['VERSION_M'] = df_modelize2['VERSION'].astype(str).str[4:].astype(np.int64)\n",
    "df_modelize2 = df_modelize2.drop(df_modelize2[df_modelize2['INTEGRAL_COSTS'] > 0].index)\n",
    "\n",
    "#GENERO TRES COLUMNAS PARA LAS FECHAS, \n",
    "#UNA PARA EL AÑO PARA SABER EL PERIODO EN EL QUE ESTOY, \n",
    "#OTRA QUE ES EL NUMERO DEL MES DESDE 1 A 24 PARA QUE EL MODELO SEPA LA SUCESIÓN EN QUE ORDEN VA YA QUE 201712 ESTÁ MUY LEJOS DE 201801\n",
    "#LA TERCERA ES EL MES PARA QUE ENTIENDA LAS ASOCIACIONES QUE HAY ENTRE ENERO-ENERO, FEBRERO-FEBRERO\n",
    "\n",
    "#LE APLICO UN ONEHOT PARA LAS TECNOLOGIAS\n",
    "\n",
    "\n",
    "df_month = df_modelize2['VERSION'].drop_duplicates().reset_index()\n",
    "df_month = df_month['VERSION'].reset_index()\n",
    "df_month.rename(columns={'index':'VERSION2'}, inplace=True)\n",
    "df_modelize2 = pd.merge(df_modelize2, df_month, on=['VERSION'], how='left')\n",
    "df_modelize2 = df_modelize2.drop(columns=['VERSION'])\n",
    "df_modelize2['VERSION2'] = df_modelize2['VERSION2'] + 1\n",
    "\n",
    "# df_modelize2 = df_modelize2[df_modelize2['ID_TECNOLOGIA'] != 'BP']\n",
    "# df_modelize2 = df_modelize2[df_modelize2['ID_TECNOLOGIA'] != 'BX']\n",
    "\n",
    "DTECH = pd.get_dummies(pd.Series(list(df_modelize2['ID_TECNOLOGIA'])))\n",
    "df_modelize2 = pd.merge(df_modelize2, DTECH, left_index=True, right_index=True)\n",
    "df_modelize2 = df_modelize2.drop(columns=['ID_TECNOLOGIA'])\n",
    "df_modelize2.rename(columns={'INTEGRAL_COSTS':'t0'}, inplace=True)\n",
    "df_modelize2.sample(10)"
   ]
  },
  {
   "cell_type": "code",
   "execution_count": 550,
   "metadata": {},
   "outputs": [
    {
     "data": {
      "text/html": [
       "<div>\n",
       "<style scoped>\n",
       "    .dataframe tbody tr th:only-of-type {\n",
       "        vertical-align: middle;\n",
       "    }\n",
       "\n",
       "    .dataframe tbody tr th {\n",
       "        vertical-align: top;\n",
       "    }\n",
       "\n",
       "    .dataframe thead th {\n",
       "        text-align: right;\n",
       "    }\n",
       "</style>\n",
       "<table border=\"1\" class=\"dataframe\">\n",
       "  <thead>\n",
       "    <tr style=\"text-align: right;\">\n",
       "      <th></th>\n",
       "      <th>POWER_MWH</th>\n",
       "      <th>t0</th>\n",
       "      <th>VERSION_Y</th>\n",
       "      <th>VERSION_M</th>\n",
       "      <th>VERSION2</th>\n",
       "      <th>BP</th>\n",
       "      <th>BX</th>\n",
       "      <th>CI</th>\n",
       "      <th>EB</th>\n",
       "      <th>GN</th>\n",
       "      <th>HN</th>\n",
       "      <th>LN</th>\n",
       "      <th>NC</th>\n",
       "      <th>t1</th>\n",
       "    </tr>\n",
       "  </thead>\n",
       "  <tbody>\n",
       "    <tr>\n",
       "      <th>1</th>\n",
       "      <td>940091.558</td>\n",
       "      <td>-11215426.0</td>\n",
       "      <td>2017</td>\n",
       "      <td>1</td>\n",
       "      <td>1</td>\n",
       "      <td>0</td>\n",
       "      <td>0</td>\n",
       "      <td>0</td>\n",
       "      <td>0</td>\n",
       "      <td>0</td>\n",
       "      <td>0</td>\n",
       "      <td>0</td>\n",
       "      <td>1</td>\n",
       "      <td>-12774780.0</td>\n",
       "    </tr>\n",
       "    <tr>\n",
       "      <th>2</th>\n",
       "      <td>-1418.032</td>\n",
       "      <td>0.0</td>\n",
       "      <td>2017</td>\n",
       "      <td>1</td>\n",
       "      <td>1</td>\n",
       "      <td>0</td>\n",
       "      <td>0</td>\n",
       "      <td>0</td>\n",
       "      <td>0</td>\n",
       "      <td>0</td>\n",
       "      <td>0</td>\n",
       "      <td>0</td>\n",
       "      <td>1</td>\n",
       "      <td>-11215426.0</td>\n",
       "    </tr>\n",
       "    <tr>\n",
       "      <th>3</th>\n",
       "      <td>22830.702</td>\n",
       "      <td>-242300.0</td>\n",
       "      <td>2017</td>\n",
       "      <td>1</td>\n",
       "      <td>1</td>\n",
       "      <td>0</td>\n",
       "      <td>0</td>\n",
       "      <td>0</td>\n",
       "      <td>1</td>\n",
       "      <td>0</td>\n",
       "      <td>0</td>\n",
       "      <td>0</td>\n",
       "      <td>0</td>\n",
       "      <td>0.0</td>\n",
       "    </tr>\n",
       "    <tr>\n",
       "      <th>4</th>\n",
       "      <td>-418.593</td>\n",
       "      <td>-21771.0</td>\n",
       "      <td>2017</td>\n",
       "      <td>1</td>\n",
       "      <td>1</td>\n",
       "      <td>0</td>\n",
       "      <td>1</td>\n",
       "      <td>0</td>\n",
       "      <td>0</td>\n",
       "      <td>0</td>\n",
       "      <td>0</td>\n",
       "      <td>0</td>\n",
       "      <td>0</td>\n",
       "      <td>-242300.0</td>\n",
       "    </tr>\n",
       "    <tr>\n",
       "      <th>5</th>\n",
       "      <td>11909.436</td>\n",
       "      <td>-105460.0</td>\n",
       "      <td>2017</td>\n",
       "      <td>1</td>\n",
       "      <td>1</td>\n",
       "      <td>0</td>\n",
       "      <td>0</td>\n",
       "      <td>0</td>\n",
       "      <td>1</td>\n",
       "      <td>0</td>\n",
       "      <td>0</td>\n",
       "      <td>0</td>\n",
       "      <td>0</td>\n",
       "      <td>-21771.0</td>\n",
       "    </tr>\n",
       "  </tbody>\n",
       "</table>\n",
       "</div>"
      ],
      "text/plain": [
       "    POWER_MWH          t0  VERSION_Y  VERSION_M  VERSION2  BP  BX  CI  EB  GN  \\\n",
       "1  940091.558 -11215426.0       2017          1         1   0   0   0   0   0   \n",
       "2   -1418.032         0.0       2017          1         1   0   0   0   0   0   \n",
       "3   22830.702   -242300.0       2017          1         1   0   0   0   1   0   \n",
       "4    -418.593    -21771.0       2017          1         1   0   1   0   0   0   \n",
       "5   11909.436   -105460.0       2017          1         1   0   0   0   1   0   \n",
       "\n",
       "   HN  LN  NC          t1  \n",
       "1   0   0   1 -12774780.0  \n",
       "2   0   0   1 -11215426.0  \n",
       "3   0   0   0         0.0  \n",
       "4   0   0   0   -242300.0  \n",
       "5   0   0   0    -21771.0  "
      ]
     },
     "execution_count": 550,
     "metadata": {},
     "output_type": "execute_result"
    }
   ],
   "source": [
    "input_col = []\n",
    "for i in range(2):\n",
    "    input_col.append(\"t\"+str(i))\n",
    "    df_modelize2[\"t\"+str(i)]=df_modelize2[\"t0\"].shift(i)\n",
    "df_modelize2=df_modelize2.dropna()\n",
    "df_modelize2.head(5)"
   ]
  },
  {
   "cell_type": "code",
   "execution_count": 551,
   "metadata": {},
   "outputs": [
    {
     "data": {
      "text/plain": [
       "Index(['POWER_MWH', 't0', 'VERSION_Y', 'VERSION_M', 'VERSION2', 'BP', 'BX',\n",
       "       'CI', 'EB', 'GN', 'HN', 'LN', 'NC', 't1'],\n",
       "      dtype='object')"
      ]
     },
     "execution_count": 551,
     "metadata": {},
     "output_type": "execute_result"
    }
   ],
   "source": [
    "df_modelize2.columns"
   ]
  },
  {
   "cell_type": "markdown",
   "metadata": {},
   "source": [
    "# Model Aplication"
   ]
  },
  {
   "cell_type": "markdown",
   "metadata": {},
   "source": [
    "## Instances Creation"
   ]
  },
  {
   "cell_type": "code",
   "execution_count": 552,
   "metadata": {},
   "outputs": [],
   "source": [
    "# Import Library\n",
    "from sklearn.model_selection import train_test_split\n",
    "from sklearn.preprocessing import StandardScaler\n",
    "\n",
    "X = df_modelize2[['POWER_MWH','VERSION_Y', 'VERSION_M', 'VERSION2', 'CI', 'EB','GN', 'HN', 'LN', 'NC','t1','BP','BX']]\n",
    "y = df_modelize2['t0']\n",
    "\n",
    "\n",
    "# Create Instance\n",
    "X_train, X_test, y_train, y_test = train_test_split(X,y, test_size=0.10 , random_state = 42)"
   ]
  },
  {
   "cell_type": "code",
   "execution_count": 553,
   "metadata": {},
   "outputs": [],
   "source": [
    "from sklearn.preprocessing import StandardScaler\n",
    "scaler = StandardScaler()\n",
    "colnames = X_train.columns"
   ]
  },
  {
   "cell_type": "code",
   "execution_count": 554,
   "metadata": {},
   "outputs": [
    {
     "data": {
      "text/plain": [
       "(844, 13)"
      ]
     },
     "execution_count": 554,
     "metadata": {},
     "output_type": "execute_result"
    }
   ],
   "source": [
    "Xs_train = scaler.fit_transform(X_train.values)\n",
    "Xs_train = pd.DataFrame(Xs_train)\n",
    "Xs_train.columns = colnames\n",
    "Xs_train.shape"
   ]
  },
  {
   "cell_type": "code",
   "execution_count": 555,
   "metadata": {},
   "outputs": [
    {
     "data": {
      "text/plain": [
       "(94, 13)"
      ]
     },
     "execution_count": 555,
     "metadata": {},
     "output_type": "execute_result"
    }
   ],
   "source": [
    "Xs_test = scaler.fit_transform(X_test.values)\n",
    "Xs_test = pd.DataFrame(Xs_test)\n",
    "Xs_test.columns = colnames\n",
    "Xs_test.shape"
   ]
  },
  {
   "cell_type": "code",
   "execution_count": 556,
   "metadata": {},
   "outputs": [],
   "source": [
    "## Code for inversing the transformation once the predictor is used\n",
    "# df_Unscaled = scaler.inverse_transform(df_Scaled)\n",
    "# df_Unscaled = pd.DataFrame(df_Unscaled)\n",
    "# df_Unscaled.columns = colnames\n",
    "# df_Unscaled.head(5)"
   ]
  },
  {
   "cell_type": "markdown",
   "metadata": {},
   "source": [
    "## XGBoost"
   ]
  },
  {
   "cell_type": "code",
   "execution_count": 557,
   "metadata": {},
   "outputs": [],
   "source": [
    "# Load the library\n",
    "import xgboost as XGB\n",
    "# Create an instance\n",
    "regXGB = XGB.XGBRegressor(n_estimators=100, \n",
    "                          learning_rate=0.1, \n",
    "                          gamma=0, \n",
    "                          subsample=0.7,\n",
    "                          colsample_bytree=1, \n",
    "                          max_depth=6)\n",
    "# Fit the data\n",
    "regXGB.fit(Xs_train,y_train)\n",
    "# Do predictions\n",
    "y_regXGB_pred = regXGB.predict(Xs_test)"
   ]
  },
  {
   "cell_type": "code",
   "execution_count": 558,
   "metadata": {},
   "outputs": [
    {
     "name": "stdout",
     "output_type": "stream",
     "text": [
      "2415997303176.5903\n",
      "Mean error represents  30 % from the mean value\n"
     ]
    },
    {
     "data": {
      "image/png": "[encoded data removed]",
      "text/plain": [
       "<Figure size 432x288 with 1 Axes>"
      ]
     },
     "metadata": {
      "needs_background": "light"
     },
     "output_type": "display_data"
    }
   ],
   "source": [
    "from sklearn.metrics import mean_squared_error\n",
    "\n",
    "print(mean_squared_error(y_test,y_regXGB_pred))\n",
    "print(\"Mean error represents \", round(-100*np.mean(np.abs(y_test-y_regXGB_pred))/y_test.mean()), \"% from the mean value\")\n",
    "plt.hist(y_test-y_regXGB_pred,bins=50);"
   ]
  },
  {
   "cell_type": "markdown",
   "metadata": {},
   "source": [
    "## XGBoost with GridSearchCV [Final Model]"
   ]
  },
  {
   "cell_type": "code",
   "execution_count": 559,
   "metadata": {},
   "outputs": [],
   "source": [
    "# Load the library\n",
    "from sklearn.model_selection import GridSearchCV"
   ]
  },
  {
   "cell_type": "code",
   "execution_count": 560,
   "metadata": {},
   "outputs": [
    {
     "name": "stdout",
     "output_type": "stream",
     "text": [
      "Fitting 5 folds for each of 84 candidates, totalling 420 fits\n"
     ]
    },
    {
     "name": "stderr",
     "output_type": "stream",
     "text": [
      "[Parallel(n_jobs=-1)]: Using backend LokyBackend with 4 concurrent workers.\n",
      "[Parallel(n_jobs=-1)]: Done  10 tasks      | elapsed:    6.4s\n",
      "[Parallel(n_jobs=-1)]: Done  24 tasks      | elapsed:   16.9s\n",
      "[Parallel(n_jobs=-1)]: Done  42 tasks      | elapsed:   31.2s\n",
      "[Parallel(n_jobs=-1)]: Done  64 tasks      | elapsed:   49.5s\n",
      "[Parallel(n_jobs=-1)]: Done  90 tasks      | elapsed:  1.1min\n",
      "[Parallel(n_jobs=-1)]: Done 120 tasks      | elapsed:  1.6min\n",
      "[Parallel(n_jobs=-1)]: Done 154 tasks      | elapsed:  2.2min\n",
      "[Parallel(n_jobs=-1)]: Done 192 tasks      | elapsed:  2.9min\n",
      "[Parallel(n_jobs=-1)]: Done 234 tasks      | elapsed:  3.7min\n",
      "[Parallel(n_jobs=-1)]: Done 280 tasks      | elapsed:  4.8min\n",
      "[Parallel(n_jobs=-1)]: Done 330 tasks      | elapsed:  5.7min\n",
      "[Parallel(n_jobs=-1)]: Done 384 tasks      | elapsed:  7.0min\n",
      "[Parallel(n_jobs=-1)]: Done 420 out of 420 | elapsed:  7.7min finished\n",
      "C:\\Users\\ES71531200G\\AppData\\Local\\Continuum\\anaconda3\\lib\\site-packages\\sklearn\\model_selection\\_search.py:841: DeprecationWarning: The default of the `iid` parameter will change from True to False in version 0.22 and will be removed in 0.24. This will change numeric results when test-set sizes are unequal.\n",
      "  DeprecationWarning)\n"
     ]
    },
    {
     "name": "stdout",
     "output_type": "stream",
     "text": [
      "{'colsample_bytree': 0.9, 'learning_rate': 0.01, 'max_depth': 4, 'n_estimators': 500, 'nthread': 4, 'silent': 1, 'subsample': 0.7}\n",
      "-5031854322956.231\n",
      "2539179632504.9673\n",
      "Mean error represents  32 % from the mean value\n"
     ]
    },
    {
     "data": {
      "image/png": "[encoded data removed]",
      "text/plain": [
       "<Figure size 432x288 with 1 Axes>"
      ]
     },
     "metadata": {
      "needs_background": "light"
     },
     "output_type": "display_data"
    }
   ],
   "source": [
    "# Load the library\n",
    "from sklearn.model_selection import GridSearchCV\n",
    "from xgboost.sklearn import XGBRegressor\n",
    "\n",
    "\n",
    "# Create an instance\n",
    "        \n",
    "xgb1 = XGBRegressor()\n",
    "parameters = {'nthread':[4], \n",
    "              'learning_rate': [0.01, 0.05, 0.11], \n",
    "              'max_depth':np.arange(3,10),\n",
    "              'silent': [1],\n",
    "              'subsample': [0.7],\n",
    "              'colsample_bytree':[0.3,0.6,0.9,1],\n",
    "              'n_estimators': [500]}\n",
    "\n",
    "regXGBGS = GridSearchCV(xgb1,\n",
    "                        parameters,\n",
    "                        cv = 5,\n",
    "                        n_jobs = -1,\n",
    "                        scoring=\"neg_mean_squared_error\",\n",
    "                        verbose=9)\n",
    "\n",
    "# Fit the data\n",
    "regXGBGS.fit(Xs_train,y_train)\n",
    "\n",
    "\n",
    "print(regXGBGS.best_params_)\n",
    "print(regXGBGS.best_score_)\n",
    "\n",
    "regXGBGS = regXGBGS.best_estimator_\n",
    "\n",
    "# {'colsample_bytree': 1, 'learning_rate': 0.01, 'max_depth': 6, 'n_estimators': 500, 'nthread': 4, 'silent': 1, 'subsample': 0.7}\n",
    "# -3729534491046.9116\n",
    "\n",
    "\n",
    "# Do predictions\n",
    "y_regXGBGS_pred = regXGBGS.predict(Xs_test)\n",
    "print(mean_squared_error(y_test,y_regXGBGS_pred))\n",
    "print(\"Mean error represents \", round(-100*np.mean(np.abs(y_test-y_regXGBGS_pred))/y_test.mean()), \"% from the mean value\")\n",
    "plt.hist(y_test-y_regXGBGS_pred,bins=50);"
   ]
  },
  {
   "cell_type": "markdown",
   "metadata": {},
   "source": [
    "## Overfitting the model"
   ]
  },
  {
   "cell_type": "markdown",
   "metadata": {},
   "source": [
    "## XGBoost"
   ]
  },
  {
   "cell_type": "code",
   "execution_count": 561,
   "metadata": {},
   "outputs": [],
   "source": [
    "#INTERESANTE RESULTA QUE AL QUITAR LOS VALORES TOP, LO QUE HACEMOS ES QUE MEJORA MUCHO LA DISTRIBUCIÓN DE ERRORES, PERO SE VUELVE UN POCO LOCO FALLANDO POR MÁS EN OTROS\n",
    "# ES DECIR, SEGURAMETNE OVERFITTEA"
   ]
  },
  {
   "cell_type": "code",
   "execution_count": 562,
   "metadata": {},
   "outputs": [],
   "source": [
    "#Despues de una iteracción, eliminamos los valores que aún nos dan ruido en el modelo y lo reentrenamos\n",
    "# Ahora si, para dar por finalizado el entrenamiento del modelo con los datos de que disponemos\n",
    "df_modelize2 = df_modelize2.drop(pd.DataFrame(np.abs(y_test-y_regXGB_pred)).sort_values(by=['t0'],ascending = True).head(5).index)\n",
    "\n",
    "X = df_modelize2[['POWER_MWH','VERSION_Y', 'VERSION_M', 'VERSION2', 'CI', 'EB','GN', 'HN', 'LN', 'NC','t1','BP','BX']]\n",
    "y = df_modelize2['t0']\n",
    "\n",
    "\n",
    "# Create Instance\n",
    "X_train, X_test, y_train, y_test = train_test_split(X,y, test_size=0.10 , random_state = 42)\n",
    "\n",
    "\n",
    "scaler = StandardScaler()\n",
    "colnames = X_train.columns\n",
    "\n",
    "Xs_train = scaler.fit_transform(X_train.values)\n",
    "Xs_train = pd.DataFrame(Xs_train)\n",
    "Xs_train.columns = colnames\n",
    "Xs_test = scaler.fit_transform(X_test.values)\n",
    "Xs_test = pd.DataFrame(Xs_test)\n",
    "Xs_test.columns = colnames"
   ]
  },
  {
   "cell_type": "code",
   "execution_count": 563,
   "metadata": {},
   "outputs": [
    {
     "name": "stdout",
     "output_type": "stream",
     "text": [
      "4610264367198.878\n",
      "Mean error represents  33 % from the mean value\n"
     ]
    },
    {
     "data": {
      "image/png": "[encoded data removed]",
      "text/plain": [
       "<Figure size 432x288 with 1 Axes>"
      ]
     },
     "metadata": {
      "needs_background": "light"
     },
     "output_type": "display_data"
    }
   ],
   "source": [
    "# Load the library\n",
    "import xgboost as XGB\n",
    "# Create an instance\n",
    "regXGB = XGB.XGBRegressor(n_estimators=100, \n",
    "                          learning_rate=0.1, \n",
    "                          gamma=0, \n",
    "                          subsample=0.7,\n",
    "                          colsample_bytree=1, \n",
    "                          max_depth=6)\n",
    "# Fit the data\n",
    "regXGB.fit(Xs_train,y_train)\n",
    "# Do predictions\n",
    "y_regXGB_pred = regXGB.predict(Xs_test)\n",
    "\n",
    "from sklearn.metrics import mean_squared_error\n",
    "\n",
    "print(mean_squared_error(y_test,y_regXGB_pred))\n",
    "print(\"Mean error represents \", round(-100*np.mean(np.abs(y_test-y_regXGB_pred))/y_test.mean()), \"% from the mean value\")\n",
    "plt.hist(y_test-y_regXGB_pred,bins=50);"
   ]
  },
  {
   "cell_type": "code",
   "execution_count": null,
   "metadata": {},
   "outputs": [],
   "source": []
  },
  {
   "cell_type": "code",
   "execution_count": null,
   "metadata": {},
   "outputs": [],
   "source": []
  },
  {
   "cell_type": "code",
   "execution_count": null,
   "metadata": {},
   "outputs": [],
   "source": []
  },
  {
   "cell_type": "code",
   "execution_count": null,
   "metadata": {},
   "outputs": [],
   "source": []
  },
  {
   "cell_type": "code",
   "execution_count": 547,
   "metadata": {},
   "outputs": [
    {
     "name": "stdout",
     "output_type": "stream",
     "text": [
      "Fitting 5 folds for each of 84 candidates, totalling 420 fits\n"
     ]
    },
    {
     "name": "stderr",
     "output_type": "stream",
     "text": [
      "[Parallel(n_jobs=-1)]: Using backend LokyBackend with 4 concurrent workers.\n",
      "[Parallel(n_jobs=-1)]: Done  10 tasks      | elapsed:   11.9s\n",
      "[Parallel(n_jobs=-1)]: Done  24 tasks      | elapsed:   22.4s\n",
      "[Parallel(n_jobs=-1)]: Done  42 tasks      | elapsed:   37.3s\n",
      "[Parallel(n_jobs=-1)]: Done  64 tasks      | elapsed:   56.1s\n",
      "[Parallel(n_jobs=-1)]: Done  90 tasks      | elapsed:  1.3min\n",
      "[Parallel(n_jobs=-1)]: Done 120 tasks      | elapsed:  1.7min\n",
      "[Parallel(n_jobs=-1)]: Done 154 tasks      | elapsed:  2.3min\n",
      "[Parallel(n_jobs=-1)]: Done 192 tasks      | elapsed:  3.0min\n",
      "[Parallel(n_jobs=-1)]: Done 234 tasks      | elapsed:  3.9min\n",
      "[Parallel(n_jobs=-1)]: Done 280 tasks      | elapsed:  4.9min\n",
      "[Parallel(n_jobs=-1)]: Done 330 tasks      | elapsed:  5.9min\n",
      "[Parallel(n_jobs=-1)]: Done 384 tasks      | elapsed:  7.1min\n",
      "[Parallel(n_jobs=-1)]: Done 420 out of 420 | elapsed:  7.9min finished\n",
      "C:\\Users\\ES71531200G\\AppData\\Local\\Continuum\\anaconda3\\lib\\site-packages\\sklearn\\model_selection\\_search.py:841: DeprecationWarning: The default of the `iid` parameter will change from True to False in version 0.22 and will be removed in 0.24. This will change numeric results when test-set sizes are unequal.\n",
      "  DeprecationWarning)\n"
     ]
    },
    {
     "name": "stdout",
     "output_type": "stream",
     "text": [
      "{'colsample_bytree': 1, 'learning_rate': 0.01, 'max_depth': 5, 'n_estimators': 500, 'nthread': 4, 'silent': 1, 'subsample': 0.7}\n",
      "-4361331915276.1616\n",
      "4686136356637.13\n",
      "Mean error represents  32 % from the mean value\n"
     ]
    },
    {
     "data": {
      "image/png": "[encoded data removed]",
      "text/plain": [
       "<Figure size 432x288 with 1 Axes>"
      ]
     },
     "metadata": {
      "needs_background": "light"
     },
     "output_type": "display_data"
    }
   ],
   "source": []
  },
  {
   "cell_type": "code",
   "execution_count": null,
   "metadata": {},
   "outputs": [],
   "source": []
  },
  {
   "cell_type": "code",
   "execution_count": null,
   "metadata": {},
   "outputs": [],
   "source": []
  },
  {
   "cell_type": "code",
   "execution_count": null,
   "metadata": {},
   "outputs": [],
   "source": []
  },
  {
   "cell_type": "code",
   "execution_count": null,
   "metadata": {},
   "outputs": [],
   "source": []
  },
  {
   "cell_type": "code",
   "execution_count": null,
   "metadata": {},
   "outputs": [],
   "source": []
  }
 ],
 "metadata": {
  "kernelspec": {
   "display_name": "Python 3",
   "language": "python",
   "name": "python3"
  },
  "language_info": {
   "codemirror_mode": {
    "name": "ipython",
    "version": 3
   },
   "file_extension": ".py",
   "mimetype": "text/x-python",
   "name": "python",
   "nbconvert_exporter": "python",
   "pygments_lexer": "ipython3",
   "version": "3.7.3"
  }
 },
 "nbformat": 4,
 "nbformat_minor": 2
}
